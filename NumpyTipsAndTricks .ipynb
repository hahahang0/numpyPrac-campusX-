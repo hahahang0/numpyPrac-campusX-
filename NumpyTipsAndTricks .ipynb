{
 "cells": [
  {
   "cell_type": "code",
   "execution_count": 17,
   "id": "bc958fdd-2ff5-4957-9f56-554b4cdfceee",
   "metadata": {},
   "outputs": [],
   "source": [
    "import numpy as np"
   ]
  },
  {
   "cell_type": "code",
   "execution_count": 18,
   "id": "7f00e30a-819a-4905-b75d-961d8944b9f3",
   "metadata": {},
   "outputs": [
    {
     "name": "stdout",
     "output_type": "stream",
     "text": [
      "[ 9 43 56 49  9 71 75  9 27 20 95 37 38  2 90]\n",
      "[ 2  9  9  9 20 27 37 38 43 49 56 71 75 90 95]\n"
     ]
    }
   ],
   "source": [
    "#NP.sort()\n",
    "\n",
    "a = np.random.randint(1,100,15)\n",
    "print(a)\n",
    "print(np.sort(a))"
   ]
  },
  {
   "cell_type": "code",
   "execution_count": 19,
   "id": "929b5da5-920d-4912-93f4-ae5d14c6055e",
   "metadata": {},
   "outputs": [
    {
     "name": "stdout",
     "output_type": "stream",
     "text": [
      "[[72 40 88 20 81 97]\n",
      " [88  7 71 79 14 38]\n",
      " [95 76 82 84 81 19]\n",
      " [10 75 63 48 38 13]]\n",
      "[[10  7 63 20 14 13]\n",
      " [72 40 71 48 38 19]\n",
      " [88 75 82 79 81 38]\n",
      " [95 76 88 84 81 97]]\n"
     ]
    }
   ],
   "source": [
    "b = np.random.randint(1,100,24).reshape(4,6)\n",
    "print(b)\n",
    "print(np.sort(b,axis=0))"
   ]
  },
  {
   "cell_type": "code",
   "execution_count": 20,
   "id": "c8af22df-9dd3-4f66-b1a5-8c72e172eb74",
   "metadata": {},
   "outputs": [
    {
     "data": {
      "text/plain": [
       "array([  9,  43,  56,  49,   9,  71,  75,   9,  27,  20,  95,  37,  38,\n",
       "         2,  90, 200])"
      ]
     },
     "execution_count": 20,
     "metadata": {},
     "output_type": "execute_result"
    }
   ],
   "source": [
    "#np.append\n",
    "np.append(a,200)"
   ]
  },
  {
   "cell_type": "code",
   "execution_count": 21,
   "id": "dedf3788-445a-4e0e-8623-b6cca736dee7",
   "metadata": {},
   "outputs": [
    {
     "data": {
      "text/plain": [
       "array([[72, 40, 88, 20, 81, 97],\n",
       "       [88,  7, 71, 79, 14, 38],\n",
       "       [95, 76, 82, 84, 81, 19],\n",
       "       [10, 75, 63, 48, 38, 13]])"
      ]
     },
     "execution_count": 21,
     "metadata": {},
     "output_type": "execute_result"
    }
   ],
   "source": [
    "b"
   ]
  },
  {
   "cell_type": "code",
   "execution_count": 22,
   "id": "ce824f76-9bdf-4a8d-a749-23d269d5a3d5",
   "metadata": {},
   "outputs": [
    {
     "data": {
      "text/plain": [
       "array([[72., 40., 88., 20., 81., 97.,  1.],\n",
       "       [88.,  7., 71., 79., 14., 38.,  1.],\n",
       "       [95., 76., 82., 84., 81., 19.,  1.],\n",
       "       [10., 75., 63., 48., 38., 13.,  1.]])"
      ]
     },
     "execution_count": 22,
     "metadata": {},
     "output_type": "execute_result"
    }
   ],
   "source": [
    "np.append(b,np.ones((b.shape[0],1)),axis=1)"
   ]
  },
  {
   "cell_type": "code",
   "execution_count": 23,
   "id": "c990a06e-75d6-4d9d-8f7d-a5b1f9e8f9d9",
   "metadata": {},
   "outputs": [
    {
     "name": "stdout",
     "output_type": "stream",
     "text": [
      "[[0 1 2]\n",
      " [3 4 5]]\n",
      "[[ 6  7  8]\n",
      " [ 9 10 11]]\n"
     ]
    }
   ],
   "source": [
    "#np.concatenate\n",
    "c = np.arange(6).reshape(2,3)\n",
    "d = np.arange(6,12).reshape(2,3)\n",
    "print(c)\n",
    "print(d)"
   ]
  },
  {
   "cell_type": "code",
   "execution_count": 24,
   "id": "5135c207-c3e7-46c4-856e-6c30b6c54246",
   "metadata": {},
   "outputs": [
    {
     "data": {
      "text/plain": [
       "array([[ 0,  1,  2],\n",
       "       [ 3,  4,  5],\n",
       "       [ 6,  7,  8],\n",
       "       [ 9, 10, 11]])"
      ]
     },
     "execution_count": 24,
     "metadata": {},
     "output_type": "execute_result"
    }
   ],
   "source": [
    "np.concatenate((c,d),axis=0)"
   ]
  },
  {
   "cell_type": "code",
   "execution_count": 25,
   "id": "df5c19f3-e467-4da5-98e3-bbde1a81af5f",
   "metadata": {},
   "outputs": [
    {
     "name": "stdout",
     "output_type": "stream",
     "text": [
      "[1 2 3 4 5 6]\n"
     ]
    }
   ],
   "source": [
    "#np.unique\n",
    "e = np.array([1,2,3,4,5,5,5,6,6,6,6])\n",
    "print(np.unique(e))"
   ]
  },
  {
   "cell_type": "code",
   "execution_count": 26,
   "id": "e11b2762-3d39-4ae9-bf03-28f8d8e16171",
   "metadata": {},
   "outputs": [
    {
     "data": {
      "text/plain": [
       "array([ 9, 43, 56, 49,  9, 71, 75,  9, 27, 20, 95, 37, 38,  2, 90])"
      ]
     },
     "execution_count": 26,
     "metadata": {},
     "output_type": "execute_result"
    }
   ],
   "source": [
    "#np.expand_dims --> get expanded dimensions of an array \n",
    "a"
   ]
  },
  {
   "cell_type": "code",
   "execution_count": 27,
   "id": "2e5cf580-b9f1-4655-abcc-2535b01581a4",
   "metadata": {},
   "outputs": [
    {
     "data": {
      "text/plain": [
       "array([[ 9],\n",
       "       [43],\n",
       "       [56],\n",
       "       [49],\n",
       "       [ 9],\n",
       "       [71],\n",
       "       [75],\n",
       "       [ 9],\n",
       "       [27],\n",
       "       [20],\n",
       "       [95],\n",
       "       [37],\n",
       "       [38],\n",
       "       [ 2],\n",
       "       [90]])"
      ]
     },
     "execution_count": 27,
     "metadata": {},
     "output_type": "execute_result"
    }
   ],
   "source": [
    "np.expand_dims(a,axis=1)"
   ]
  },
  {
   "cell_type": "code",
   "execution_count": 28,
   "id": "a22a1d40-9785-41e1-8728-93ed8742f3d6",
   "metadata": {},
   "outputs": [
    {
     "data": {
      "text/plain": [
       "array([ 9, 43, 56, 49,  9, 71, 75,  9, 27, 20, 95, 37, 38,  2, 90])"
      ]
     },
     "execution_count": 28,
     "metadata": {},
     "output_type": "execute_result"
    }
   ],
   "source": [
    "#np.where\n",
    "a"
   ]
  },
  {
   "cell_type": "code",
   "execution_count": 29,
   "id": "8ed12575-c51d-46af-8030-92975af86f0d",
   "metadata": {},
   "outputs": [
    {
     "data": {
      "text/plain": [
       "(array([ 2,  5,  6, 10, 14], dtype=int64),)"
      ]
     },
     "execution_count": 29,
     "metadata": {},
     "output_type": "execute_result"
    }
   ],
   "source": [
    "np.where(a>50)"
   ]
  },
  {
   "cell_type": "code",
   "execution_count": 30,
   "id": "a0c30413-82c6-439a-af69-c1a6eba0cc7d",
   "metadata": {},
   "outputs": [
    {
     "name": "stdout",
     "output_type": "stream",
     "text": [
      "[ 9 43  0 49  9  0  0  9 27 20  0 37 38  2  0]\n"
     ]
    }
   ],
   "source": [
    "#replace all the values > 50 with 0 \n",
    "print(np.where(a>50,0,a))"
   ]
  },
  {
   "cell_type": "code",
   "execution_count": 31,
   "id": "5dc85307-2ab9-46f3-9180-8d0a2d196872",
   "metadata": {},
   "outputs": [
    {
     "data": {
      "text/plain": [
       "array([ 9, 43, 56, 49,  9, 71, 75,  9, 27, 20, 95, 37, 38,  2, 90])"
      ]
     },
     "execution_count": 31,
     "metadata": {},
     "output_type": "execute_result"
    }
   ],
   "source": [
    "#np.argmax\n",
    "a"
   ]
  },
  {
   "cell_type": "code",
   "execution_count": 32,
   "id": "0197c054-eee5-4f5a-aa05-ee93077808bd",
   "metadata": {},
   "outputs": [
    {
     "data": {
      "text/plain": [
       "10"
      ]
     },
     "execution_count": 32,
     "metadata": {},
     "output_type": "execute_result"
    }
   ],
   "source": [
    "np.argmax(a)"
   ]
  },
  {
   "cell_type": "code",
   "execution_count": 33,
   "id": "2e5b54c6-6a85-44ca-9160-68a75f25a428",
   "metadata": {},
   "outputs": [
    {
     "data": {
      "text/plain": [
       "array([[72, 40, 88, 20, 81, 97],\n",
       "       [88,  7, 71, 79, 14, 38],\n",
       "       [95, 76, 82, 84, 81, 19],\n",
       "       [10, 75, 63, 48, 38, 13]])"
      ]
     },
     "execution_count": 33,
     "metadata": {},
     "output_type": "execute_result"
    }
   ],
   "source": [
    "b"
   ]
  },
  {
   "cell_type": "code",
   "execution_count": 34,
   "id": "77a81f1d-220c-43ca-b4ef-189ff9f46024",
   "metadata": {},
   "outputs": [
    {
     "data": {
      "text/plain": [
       "array([5, 0, 0, 1], dtype=int64)"
      ]
     },
     "execution_count": 34,
     "metadata": {},
     "output_type": "execute_result"
    }
   ],
   "source": [
    "np.argmax(b,axis=1)"
   ]
  },
  {
   "cell_type": "code",
   "execution_count": 35,
   "id": "190b9dfd-d714-43a0-abaf-713a5bad55dd",
   "metadata": {},
   "outputs": [
    {
     "data": {
      "text/plain": [
       "array([ 9, 43, 56, 49,  9, 71, 75,  9, 27, 20, 95, 37, 38,  2, 90])"
      ]
     },
     "execution_count": 35,
     "metadata": {},
     "output_type": "execute_result"
    }
   ],
   "source": [
    "#np.argmin\n",
    "a"
   ]
  },
  {
   "cell_type": "code",
   "execution_count": 106,
   "id": "80c281fe-abaa-4910-a9d0-bf7155b8ef18",
   "metadata": {},
   "outputs": [
    {
     "data": {
      "text/plain": [
       "13"
      ]
     },
     "execution_count": 106,
     "metadata": {},
     "output_type": "execute_result"
    }
   ],
   "source": [
    "np.argmin(a)"
   ]
  },
  {
   "cell_type": "code",
   "execution_count": 37,
   "id": "e9374de4-ce50-4ef9-ac03-7ee48b91bbc1",
   "metadata": {},
   "outputs": [
    {
     "name": "stdout",
     "output_type": "stream",
     "text": [
      "[ 9 43 56 49  9 71 75  9 27 20 95 37 38  2 90]\n",
      "[  9  52 108 157 166 237 312 321 348 368 463 500 538 540 630]\n"
     ]
    }
   ],
   "source": [
    "#np.cumsum\n",
    "print(a)\n",
    "print(np.cumsum(a))"
   ]
  },
  {
   "cell_type": "code",
   "execution_count": 38,
   "id": "fe29e710-8f22-4097-9b61-5f09f52d338c",
   "metadata": {},
   "outputs": [
    {
     "name": "stdout",
     "output_type": "stream",
     "text": [
      "[[72 40 88 20 81 97]\n",
      " [88  7 71 79 14 38]\n",
      " [95 76 82 84 81 19]\n",
      " [10 75 63 48 38 13]]\n",
      "[[ 72 112 200 220 301 398]\n",
      " [ 88  95 166 245 259 297]\n",
      " [ 95 171 253 337 418 437]\n",
      " [ 10  85 148 196 234 247]]\n"
     ]
    }
   ],
   "source": [
    "print(b)\n",
    "print(np.cumsum(b,axis=1))"
   ]
  },
  {
   "cell_type": "code",
   "execution_count": 39,
   "id": "a23ea26c-5acc-4cb0-a22d-c88ef0d47624",
   "metadata": {},
   "outputs": [
    {
     "data": {
      "text/plain": [
       "array([          9,         387,       21672,     1061928,     9557352,\n",
       "         678571992,  -646708152, -1525406072,  1763709016,   914441952,\n",
       "         972639520,  1627923872,  1731564992,  -831837312, -1850914048])"
      ]
     },
     "execution_count": 39,
     "metadata": {},
     "output_type": "execute_result"
    }
   ],
   "source": [
    "#np.cumprod\n",
    "np.cumprod(a)"
   ]
  },
  {
   "cell_type": "code",
   "execution_count": 40,
   "id": "ffc9995e-8305-4288-a553-535772a5a857",
   "metadata": {},
   "outputs": [
    {
     "name": "stdout",
     "output_type": "stream",
     "text": [
      "[ 9 43 56 49  9 71 75  9 27 20 95 37 38  2 90]\n"
     ]
    },
    {
     "data": {
      "text/plain": [
       "94.3"
      ]
     },
     "execution_count": 40,
     "metadata": {},
     "output_type": "execute_result"
    }
   ],
   "source": [
    "#np.percentile --> nth percentile of given data \n",
    "print(a)\n",
    "np.percentile(a,99)\n"
   ]
  },
  {
   "cell_type": "code",
   "execution_count": 41,
   "id": "36b51357-72cb-4928-8628-356f2f045c8b",
   "metadata": {},
   "outputs": [
    {
     "name": "stdout",
     "output_type": "stream",
     "text": [
      "15\n",
      "(array([4, 0, 2, 2, 2, 1, 0, 2, 0, 2], dtype=int64), array([  0,  10,  20,  30,  40,  50,  60,  70,  80,  90, 100]))\n"
     ]
    }
   ],
   "source": [
    "#np.histogram \n",
    "print(len(a))\n",
    "print(np.histogram(a,bins=[0,10,20,30,40,50,60,70,80,90,100]))"
   ]
  },
  {
   "cell_type": "code",
   "execution_count": 42,
   "id": "2e31d394-c3e7-4422-ac94-946c7780da06",
   "metadata": {},
   "outputs": [
    {
     "data": {
      "text/plain": [
       "array([[1.        , 0.25344572],\n",
       "       [0.25344572, 1.        ]])"
      ]
     },
     "execution_count": 42,
     "metadata": {},
     "output_type": "execute_result"
    }
   ],
   "source": [
    "#np.corrcoeff\n",
    "salary = np.array([20000,40000,25000,35000,60000])\n",
    "experience = np.array([1,3,2,4,2])\n",
    "np.corrcoef(salary,experience)"
   ]
  },
  {
   "cell_type": "code",
   "execution_count": 43,
   "id": "bc834c66-375b-45c9-bd92-b947cad3f8c8",
   "metadata": {},
   "outputs": [
    {
     "data": {
      "text/plain": [
       "array([ 9, 43, 56, 49,  9, 71, 75,  9, 27, 20, 95, 37, 38,  2, 90])"
      ]
     },
     "execution_count": 43,
     "metadata": {},
     "output_type": "execute_result"
    }
   ],
   "source": [
    "#np.isin\n",
    "a"
   ]
  },
  {
   "cell_type": "code",
   "execution_count": 44,
   "id": "cb0ef1e0-3037-42fd-b7f9-0f66af43051d",
   "metadata": {},
   "outputs": [
    {
     "data": {
      "text/plain": [
       "array([False, False, False, False, False, False, False, False, False,\n",
       "       False, False, False, False, False, False])"
      ]
     },
     "execution_count": 44,
     "metadata": {},
     "output_type": "execute_result"
    }
   ],
   "source": [
    "np.isin(a,[11,12,63,28,10,50,60,70])"
   ]
  },
  {
   "cell_type": "code",
   "execution_count": 45,
   "id": "136c8b50-549b-4043-896d-8a3552c7ae68",
   "metadata": {},
   "outputs": [
    {
     "data": {
      "text/plain": [
       "array([90,  2, 38, 37, 95, 20, 27,  9, 75, 71,  9, 49, 56, 43,  9])"
      ]
     },
     "execution_count": 45,
     "metadata": {},
     "output_type": "execute_result"
    }
   ],
   "source": [
    "#np.flip\n",
    "np.flip(a)"
   ]
  },
  {
   "cell_type": "code",
   "execution_count": 46,
   "id": "9aabc743-3630-425f-a5f4-0fe235254ff6",
   "metadata": {},
   "outputs": [
    {
     "data": {
      "text/plain": [
       "array([[72, 40, 88, 20, 81, 97],\n",
       "       [88,  7, 71, 79, 14, 38],\n",
       "       [95, 76, 82, 84, 81, 19],\n",
       "       [10, 75, 63, 48, 38, 13]])"
      ]
     },
     "execution_count": 46,
     "metadata": {},
     "output_type": "execute_result"
    }
   ],
   "source": [
    "b"
   ]
  },
  {
   "cell_type": "code",
   "execution_count": 47,
   "id": "e557722e-bd6d-4273-b66a-800f2b2b85b4",
   "metadata": {},
   "outputs": [
    {
     "data": {
      "text/plain": [
       "array([[10, 75, 63, 48, 38, 13],\n",
       "       [95, 76, 82, 84, 81, 19],\n",
       "       [88,  7, 71, 79, 14, 38],\n",
       "       [72, 40, 88, 20, 81, 97]])"
      ]
     },
     "execution_count": 47,
     "metadata": {},
     "output_type": "execute_result"
    }
   ],
   "source": [
    "np.flip(b,axis=0)"
   ]
  },
  {
   "cell_type": "code",
   "execution_count": 48,
   "id": "2b32b71e-f16f-4edc-b09b-eccf9db38c1d",
   "metadata": {},
   "outputs": [
    {
     "data": {
      "text/plain": [
       "array([ 9, 43, 56, 49,  9, 71, 75,  9, 27, 20, 95, 37, 38,  2, 90])"
      ]
     },
     "execution_count": 48,
     "metadata": {},
     "output_type": "execute_result"
    }
   ],
   "source": [
    "#np.put --> changing multiple elements permanently !\n",
    "a"
   ]
  },
  {
   "cell_type": "code",
   "execution_count": 49,
   "id": "0a1d34ea-0a69-46a8-9407-2e6a0ec7d14c",
   "metadata": {},
   "outputs": [],
   "source": [
    "np.put(a,[0,1],[110,156])"
   ]
  },
  {
   "cell_type": "code",
   "execution_count": 50,
   "id": "2abe3d21-ca8a-4c7e-9eb1-70610e989f99",
   "metadata": {},
   "outputs": [
    {
     "name": "stdout",
     "output_type": "stream",
     "text": [
      "[110 156  56  49   9  71  75   9  27  20  95  37  38   2  90]\n"
     ]
    }
   ],
   "source": [
    "print(a)"
   ]
  },
  {
   "cell_type": "code",
   "execution_count": 51,
   "id": "e82bf004-b2d7-4230-a524-d4f7fd988fed",
   "metadata": {},
   "outputs": [
    {
     "name": "stdout",
     "output_type": "stream",
     "text": [
      "[110 156  56  49   9  71  75   9  27  20  95  37  38   2  90]\n"
     ]
    }
   ],
   "source": [
    "#np.delete\n",
    "print(a)"
   ]
  },
  {
   "cell_type": "code",
   "execution_count": 52,
   "id": "12c7d215-a1f9-45b5-9754-830ce908da9d",
   "metadata": {},
   "outputs": [
    {
     "data": {
      "text/plain": [
       "array([156,  49,  71,  75,   9,  27,  20,  95,  37,  38,   2,  90])"
      ]
     },
     "execution_count": 52,
     "metadata": {},
     "output_type": "execute_result"
    }
   ],
   "source": [
    "np.delete(a,[0,2,4])"
   ]
  },
  {
   "cell_type": "code",
   "execution_count": 53,
   "id": "7d74c747-ea60-41c0-b22e-ba239f9b50da",
   "metadata": {},
   "outputs": [
    {
     "name": "stdout",
     "output_type": "stream",
     "text": [
      "[110 156  56  49   9  71  75   9  27  20  95  37  38   2  90]\n"
     ]
    }
   ],
   "source": [
    "print(a)"
   ]
  },
  {
   "cell_type": "code",
   "execution_count": 54,
   "id": "f1849d06-dd66-4212-9556-283949eb1042",
   "metadata": {},
   "outputs": [
    {
     "data": {
      "text/plain": [
       "<function in1d at 0x000002414340B630>"
      ]
     },
     "execution_count": 54,
     "metadata": {},
     "output_type": "execute_result"
    }
   ],
   "source": [
    "#SET FUNCTIONS\n",
    "np.union1d\n",
    "np.intersect1d\n",
    "np.setdiff1d\n",
    "np.setxor1d\n",
    "np.in1d"
   ]
  },
  {
   "cell_type": "code",
   "execution_count": 55,
   "id": "c96b86cd-04e0-4ad0-b879-795cee8de13c",
   "metadata": {},
   "outputs": [
    {
     "data": {
      "text/plain": [
       "array([1, 2, 3, 4, 5, 6, 7])"
      ]
     },
     "execution_count": 55,
     "metadata": {},
     "output_type": "execute_result"
    }
   ],
   "source": [
    "m = np.array([1,2,3,4,5])\n",
    "n = np.array([3,4,5,6,7])\n",
    "np.union1d(m,n)"
   ]
  },
  {
   "cell_type": "code",
   "execution_count": 56,
   "id": "8d516a87-5163-440d-8d45-78e14e79c9f9",
   "metadata": {},
   "outputs": [
    {
     "data": {
      "text/plain": [
       "array([3, 4, 5])"
      ]
     },
     "execution_count": 56,
     "metadata": {},
     "output_type": "execute_result"
    }
   ],
   "source": [
    "np.intersect1d(m,n)"
   ]
  },
  {
   "cell_type": "code",
   "execution_count": 57,
   "id": "f9529c80-600d-43d0-bcb3-c3af10f621f3",
   "metadata": {},
   "outputs": [
    {
     "data": {
      "text/plain": [
       "array([1, 2])"
      ]
     },
     "execution_count": 57,
     "metadata": {},
     "output_type": "execute_result"
    }
   ],
   "source": [
    "np.setdiff1d(m,n)"
   ]
  },
  {
   "cell_type": "code",
   "execution_count": 58,
   "id": "02a3258b-74cd-4364-af91-147102e5bdbb",
   "metadata": {},
   "outputs": [
    {
     "data": {
      "text/plain": [
       "array([1, 2, 6, 7])"
      ]
     },
     "execution_count": 58,
     "metadata": {},
     "output_type": "execute_result"
    }
   ],
   "source": [
    "np.setxor1d(m,n)"
   ]
  },
  {
   "cell_type": "code",
   "execution_count": 59,
   "id": "dbae1644-71d3-4cae-8b66-29556c56b4bd",
   "metadata": {},
   "outputs": [
    {
     "data": {
      "text/plain": [
       "array([False, False,  True,  True,  True])"
      ]
     },
     "execution_count": 59,
     "metadata": {},
     "output_type": "execute_result"
    }
   ],
   "source": [
    "np.in1d(m,n)"
   ]
  },
  {
   "cell_type": "code",
   "execution_count": 60,
   "id": "15f7458e-49a9-4693-bac9-36d02c1524de",
   "metadata": {},
   "outputs": [
    {
     "data": {
      "text/plain": [
       "array([75, 75, 56, 49, 25, 71, 75, 25, 27, 25, 75, 37, 38, 25, 75])"
      ]
     },
     "execution_count": 60,
     "metadata": {},
     "output_type": "execute_result"
    }
   ],
   "source": [
    "#np.clip\n",
    "np.clip(a,a_min=25,a_max=75)"
   ]
  },
  {
   "cell_type": "code",
   "execution_count": null,
   "id": "e5bd71be-0e14-4432-8472-a0efe5156fec",
   "metadata": {},
   "outputs": [],
   "source": []
  }
 ],
 "metadata": {
  "kernelspec": {
   "display_name": "Python 3 (ipykernel)",
   "language": "python",
   "name": "python3"
  },
  "language_info": {
   "codemirror_mode": {
    "name": "ipython",
    "version": 3
   },
   "file_extension": ".py",
   "mimetype": "text/x-python",
   "name": "python",
   "nbconvert_exporter": "python",
   "pygments_lexer": "ipython3",
   "version": "3.11.5"
  }
 },
 "nbformat": 4,
 "nbformat_minor": 5
}
