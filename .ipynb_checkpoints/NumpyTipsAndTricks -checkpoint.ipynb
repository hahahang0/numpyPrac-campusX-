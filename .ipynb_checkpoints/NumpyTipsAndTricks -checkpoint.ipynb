{
 "cells": [
  {
   "cell_type": "code",
   "execution_count": 1,
   "id": "bc958fdd-2ff5-4957-9f56-554b4cdfceee",
   "metadata": {},
   "outputs": [],
   "source": [
    "import numpy as np"
   ]
  },
  {
   "cell_type": "code",
   "execution_count": 3,
   "id": "7f00e30a-819a-4905-b75d-961d8944b9f3",
   "metadata": {},
   "outputs": [
    {
     "name": "stdout",
     "output_type": "stream",
     "text": [
      "[63 46 76 11 89 28 47 94 98 55 62 86 59 59 39]\n",
      "[11 28 39 46 47 55 59 59 62 63 76 86 89 94 98]\n"
     ]
    }
   ],
   "source": [
    "#NP.sort()\n",
    "\n",
    "a = np.random.randint(1,100,15)\n",
    "print(a)\n",
    "print(np.sort(a))"
   ]
  },
  {
   "cell_type": "code",
   "execution_count": 8,
   "id": "929b5da5-920d-4912-93f4-ae5d14c6055e",
   "metadata": {},
   "outputs": [
    {
     "name": "stdout",
     "output_type": "stream",
     "text": [
      "[[76 99 59  6 73 64]\n",
      " [32 12 45 37 78 66]\n",
      " [22 70 58 74 75 96]\n",
      " [27 81 13 60 80 64]]\n",
      "[[22 12 13  6 73 64]\n",
      " [27 70 45 37 75 64]\n",
      " [32 81 58 60 78 66]\n",
      " [76 99 59 74 80 96]]\n"
     ]
    }
   ],
   "source": [
    "b = np.random.randint(1,100,24).reshape(4,6)\n",
    "print(b)\n",
    "print(np.sort(b,axis=0))"
   ]
  },
  {
   "cell_type": "code",
   "execution_count": 10,
   "id": "c8af22df-9dd3-4f66-b1a5-8c72e172eb74",
   "metadata": {},
   "outputs": [
    {
     "data": {
      "text/plain": [
       "array([ 63,  46,  76,  11,  89,  28,  47,  94,  98,  55,  62,  86,  59,\n",
       "        59,  39, 200])"
      ]
     },
     "execution_count": 10,
     "metadata": {},
     "output_type": "execute_result"
    }
   ],
   "source": [
    "#np.append\n",
    "np.append(a,200)"
   ]
  },
  {
   "cell_type": "code",
   "execution_count": 11,
   "id": "dedf3788-445a-4e0e-8623-b6cca736dee7",
   "metadata": {},
   "outputs": [
    {
     "data": {
      "text/plain": [
       "array([[76, 99, 59,  6, 73, 64],\n",
       "       [32, 12, 45, 37, 78, 66],\n",
       "       [22, 70, 58, 74, 75, 96],\n",
       "       [27, 81, 13, 60, 80, 64]])"
      ]
     },
     "execution_count": 11,
     "metadata": {},
     "output_type": "execute_result"
    }
   ],
   "source": [
    "b"
   ]
  },
  {
   "cell_type": "code",
   "execution_count": 14,
   "id": "ce824f76-9bdf-4a8d-a749-23d269d5a3d5",
   "metadata": {},
   "outputs": [
    {
     "data": {
      "text/plain": [
       "array([[76., 99., 59.,  6., 73., 64.,  1.],\n",
       "       [32., 12., 45., 37., 78., 66.,  1.],\n",
       "       [22., 70., 58., 74., 75., 96.,  1.],\n",
       "       [27., 81., 13., 60., 80., 64.,  1.]])"
      ]
     },
     "execution_count": 14,
     "metadata": {},
     "output_type": "execute_result"
    }
   ],
   "source": [
    "np.append(b,np.ones((b.shape[0],1)),axis=1)"
   ]
  },
  {
   "cell_type": "code",
   "execution_count": 15,
   "id": "c990a06e-75d6-4d9d-8f7d-a5b1f9e8f9d9",
   "metadata": {},
   "outputs": [
    {
     "name": "stdout",
     "output_type": "stream",
     "text": [
      "[[0 1 2]\n",
      " [3 4 5]]\n",
      "[[ 6  7  8]\n",
      " [ 9 10 11]]\n"
     ]
    }
   ],
   "source": [
    "#np.concatenate\n",
    "c = np.arange(6).reshape(2,3)\n",
    "d = np.arange(6,12).reshape(2,3)\n",
    "print(c)\n",
    "print(d)"
   ]
  },
  {
   "cell_type": "code",
   "execution_count": 17,
   "id": "5135c207-c3e7-46c4-856e-6c30b6c54246",
   "metadata": {},
   "outputs": [
    {
     "data": {
      "text/plain": [
       "array([[ 0,  1,  2,  6,  7,  8],\n",
       "       [ 3,  4,  5,  9, 10, 11]])"
      ]
     },
     "execution_count": 17,
     "metadata": {},
     "output_type": "execute_result"
    }
   ],
   "source": [
    "np.concatenate((c,d),axis=1)"
   ]
  },
  {
   "cell_type": "code",
   "execution_count": 19,
   "id": "df5c19f3-e467-4da5-98e3-bbde1a81af5f",
   "metadata": {},
   "outputs": [
    {
     "name": "stdout",
     "output_type": "stream",
     "text": [
      "[1 2 3 4 5 6]\n"
     ]
    }
   ],
   "source": [
    "#np.unique\n",
    "e = np.array([1,2,3,4,5,5,5,6,6,6,6])\n",
    "print(np.unique(e))"
   ]
  },
  {
   "cell_type": "code",
   "execution_count": 20,
   "id": "e11b2762-3d39-4ae9-bf03-28f8d8e16171",
   "metadata": {},
   "outputs": [
    {
     "data": {
      "text/plain": [
       "array([63, 46, 76, 11, 89, 28, 47, 94, 98, 55, 62, 86, 59, 59, 39])"
      ]
     },
     "execution_count": 20,
     "metadata": {},
     "output_type": "execute_result"
    }
   ],
   "source": [
    "#np.expand_dims --> get expanded dimensions of an array \n",
    "a"
   ]
  },
  {
   "cell_type": "code",
   "execution_count": 25,
   "id": "2e5cf580-b9f1-4655-abcc-2535b01581a4",
   "metadata": {},
   "outputs": [
    {
     "data": {
      "text/plain": [
       "array([[63],\n",
       "       [46],\n",
       "       [76],\n",
       "       [11],\n",
       "       [89],\n",
       "       [28],\n",
       "       [47],\n",
       "       [94],\n",
       "       [98],\n",
       "       [55],\n",
       "       [62],\n",
       "       [86],\n",
       "       [59],\n",
       "       [59],\n",
       "       [39]])"
      ]
     },
     "execution_count": 25,
     "metadata": {},
     "output_type": "execute_result"
    }
   ],
   "source": [
    "np.expand_dims(a,axis=1)"
   ]
  },
  {
   "cell_type": "code",
   "execution_count": 26,
   "id": "a22a1d40-9785-41e1-8728-93ed8742f3d6",
   "metadata": {},
   "outputs": [
    {
     "data": {
      "text/plain": [
       "array([63, 46, 76, 11, 89, 28, 47, 94, 98, 55, 62, 86, 59, 59, 39])"
      ]
     },
     "execution_count": 26,
     "metadata": {},
     "output_type": "execute_result"
    }
   ],
   "source": [
    "#np.where\n",
    "a"
   ]
  },
  {
   "cell_type": "code",
   "execution_count": 27,
   "id": "8ed12575-c51d-46af-8030-92975af86f0d",
   "metadata": {},
   "outputs": [
    {
     "data": {
      "text/plain": [
       "(array([ 0,  2,  4,  7,  8,  9, 10, 11, 12, 13], dtype=int64),)"
      ]
     },
     "execution_count": 27,
     "metadata": {},
     "output_type": "execute_result"
    }
   ],
   "source": [
    "np.where(a>50)"
   ]
  },
  {
   "cell_type": "code",
   "execution_count": 28,
   "id": "a0c30413-82c6-439a-af69-c1a6eba0cc7d",
   "metadata": {},
   "outputs": [
    {
     "name": "stdout",
     "output_type": "stream",
     "text": [
      "[ 0 46  0 11  0 28 47  0  0  0  0  0  0  0 39]\n"
     ]
    }
   ],
   "source": [
    "#replace all the values > 50 with 0 \n",
    "print(np.where(a>50,0,a))"
   ]
  },
  {
   "cell_type": "code",
   "execution_count": 29,
   "id": "5dc85307-2ab9-46f3-9180-8d0a2d196872",
   "metadata": {},
   "outputs": [
    {
     "data": {
      "text/plain": [
       "array([63, 46, 76, 11, 89, 28, 47, 94, 98, 55, 62, 86, 59, 59, 39])"
      ]
     },
     "execution_count": 29,
     "metadata": {},
     "output_type": "execute_result"
    }
   ],
   "source": [
    "#np.argmax\n",
    "a"
   ]
  },
  {
   "cell_type": "code",
   "execution_count": 30,
   "id": "0197c054-eee5-4f5a-aa05-ee93077808bd",
   "metadata": {},
   "outputs": [
    {
     "data": {
      "text/plain": [
       "8"
      ]
     },
     "execution_count": 30,
     "metadata": {},
     "output_type": "execute_result"
    }
   ],
   "source": [
    "np.argmax(a)"
   ]
  },
  {
   "cell_type": "code",
   "execution_count": 31,
   "id": "2e5b54c6-6a85-44ca-9160-68a75f25a428",
   "metadata": {},
   "outputs": [
    {
     "data": {
      "text/plain": [
       "array([[76, 99, 59,  6, 73, 64],\n",
       "       [32, 12, 45, 37, 78, 66],\n",
       "       [22, 70, 58, 74, 75, 96],\n",
       "       [27, 81, 13, 60, 80, 64]])"
      ]
     },
     "execution_count": 31,
     "metadata": {},
     "output_type": "execute_result"
    }
   ],
   "source": [
    "b"
   ]
  },
  {
   "cell_type": "code",
   "execution_count": 33,
   "id": "77a81f1d-220c-43ca-b4ef-189ff9f46024",
   "metadata": {},
   "outputs": [
    {
     "data": {
      "text/plain": [
       "array([1, 4, 5, 1], dtype=int64)"
      ]
     },
     "execution_count": 33,
     "metadata": {},
     "output_type": "execute_result"
    }
   ],
   "source": [
    "np.argmax(b,axis=1)"
   ]
  },
  {
   "cell_type": "code",
   "execution_count": 34,
   "id": "190b9dfd-d714-43a0-abaf-713a5bad55dd",
   "metadata": {},
   "outputs": [
    {
     "data": {
      "text/plain": [
       "array([63, 46, 76, 11, 89, 28, 47, 94, 98, 55, 62, 86, 59, 59, 39])"
      ]
     },
     "execution_count": 34,
     "metadata": {},
     "output_type": "execute_result"
    }
   ],
   "source": [
    "#np.argmin\n",
    "a"
   ]
  },
  {
   "cell_type": "code",
   "execution_count": 35,
   "id": "80c281fe-abaa-4910-a9d0-bf7155b8ef18",
   "metadata": {},
   "outputs": [
    {
     "data": {
      "text/plain": [
       "3"
      ]
     },
     "execution_count": 35,
     "metadata": {},
     "output_type": "execute_result"
    }
   ],
   "source": [
    "np.argmin(a)"
   ]
  },
  {
   "cell_type": "code",
   "execution_count": 36,
   "id": "e9374de4-ce50-4ef9-ac03-7ee48b91bbc1",
   "metadata": {},
   "outputs": [
    {
     "name": "stdout",
     "output_type": "stream",
     "text": [
      "[63 46 76 11 89 28 47 94 98 55 62 86 59 59 39]\n",
      "[ 63 109 185 196 285 313 360 454 552 607 669 755 814 873 912]\n"
     ]
    }
   ],
   "source": [
    "#np.cumsum\n",
    "print(a)\n",
    "print(np.cumsum(a))"
   ]
  },
  {
   "cell_type": "code",
   "execution_count": 40,
   "id": "fe29e710-8f22-4097-9b61-5f09f52d338c",
   "metadata": {},
   "outputs": [
    {
     "name": "stdout",
     "output_type": "stream",
     "text": [
      "[[76 99 59  6 73 64]\n",
      " [32 12 45 37 78 66]\n",
      " [22 70 58 74 75 96]\n",
      " [27 81 13 60 80 64]]\n",
      "[[ 76 175 234 240 313 377]\n",
      " [ 32  44  89 126 204 270]\n",
      " [ 22  92 150 224 299 395]\n",
      " [ 27 108 121 181 261 325]]\n"
     ]
    }
   ],
   "source": [
    "print(b)\n",
    "print(np.cumsum(b,axis=1))"
   ]
  },
  {
   "cell_type": "code",
   "execution_count": 41,
   "id": "a23ea26c-5acc-4cb0-a22d-c88ef0d47624",
   "metadata": {},
   "outputs": [
    {
     "data": {
      "text/plain": [
       "array([         63,        2898,      220248,     2422728,   215622792,\n",
       "        1742470880,   291752736,  1654953408, -1023323264,  -448204672,\n",
       "       -2018885888, -1825494528,  -329994752,  2005146112,   891287040])"
      ]
     },
     "execution_count": 41,
     "metadata": {},
     "output_type": "execute_result"
    }
   ],
   "source": [
    "#np.cumprod\n",
    "np.cumprod(a)"
   ]
  },
  {
   "cell_type": "code",
   "execution_count": 44,
   "id": "ffc9995e-8305-4288-a553-535772a5a857",
   "metadata": {},
   "outputs": [
    {
     "name": "stdout",
     "output_type": "stream",
     "text": [
      "[63 46 76 11 89 28 47 94 98 55 62 86 59 59 39]\n"
     ]
    },
    {
     "data": {
      "text/plain": [
       "97.44"
      ]
     },
     "execution_count": 44,
     "metadata": {},
     "output_type": "execute_result"
    }
   ],
   "source": [
    "#np.percentile --> nth percentile of given data \n",
    "print(a)\n",
    "np.percentile(a,99)\n"
   ]
  },
  {
   "cell_type": "code",
   "execution_count": 47,
   "id": "36b51357-72cb-4928-8628-356f2f045c8b",
   "metadata": {},
   "outputs": [
    {
     "name": "stdout",
     "output_type": "stream",
     "text": [
      "15\n",
      "(array([0, 1, 1, 1, 2, 3, 2, 1, 2, 2], dtype=int64), array([  0,  10,  20,  30,  40,  50,  60,  70,  80,  90, 100]))\n"
     ]
    }
   ],
   "source": [
    "#np.histogram \n",
    "print(len(a))\n",
    "print(np.histogram(a,bins=[0,10,20,30,40,50,60,70,80,90,100]))"
   ]
  },
  {
   "cell_type": "code",
   "execution_count": 52,
   "id": "2e31d394-c3e7-4422-ac94-946c7780da06",
   "metadata": {},
   "outputs": [
    {
     "data": {
      "text/plain": [
       "array([[1.        , 0.25344572],\n",
       "       [0.25344572, 1.        ]])"
      ]
     },
     "execution_count": 52,
     "metadata": {},
     "output_type": "execute_result"
    }
   ],
   "source": [
    "#np.corrcoeff\n",
    "salary = np.array([20000,40000,25000,35000,60000])\n",
    "experience = np.array([1,3,2,4,2])\n",
    "np.corrcoef(salary,experience)"
   ]
  },
  {
   "cell_type": "code",
   "execution_count": 53,
   "id": "bc834c66-375b-45c9-bd92-b947cad3f8c8",
   "metadata": {},
   "outputs": [
    {
     "data": {
      "text/plain": [
       "array([63, 46, 76, 11, 89, 28, 47, 94, 98, 55, 62, 86, 59, 59, 39])"
      ]
     },
     "execution_count": 53,
     "metadata": {},
     "output_type": "execute_result"
    }
   ],
   "source": [
    "#np.isin\n",
    "a"
   ]
  },
  {
   "cell_type": "code",
   "execution_count": 54,
   "id": "cb0ef1e0-3037-42fd-b7f9-0f66af43051d",
   "metadata": {},
   "outputs": [
    {
     "data": {
      "text/plain": [
       "array([ True, False, False,  True, False,  True, False, False, False,\n",
       "       False, False, False, False, False, False])"
      ]
     },
     "execution_count": 54,
     "metadata": {},
     "output_type": "execute_result"
    }
   ],
   "source": [
    "np.isin(a,[11,12,63,28,10,50,60,70])"
   ]
  },
  {
   "cell_type": "code",
   "execution_count": 55,
   "id": "136c8b50-549b-4043-896d-8a3552c7ae68",
   "metadata": {},
   "outputs": [
    {
     "data": {
      "text/plain": [
       "array([39, 59, 59, 86, 62, 55, 98, 94, 47, 28, 89, 11, 76, 46, 63])"
      ]
     },
     "execution_count": 55,
     "metadata": {},
     "output_type": "execute_result"
    }
   ],
   "source": [
    "#np.flip\n",
    "np.flip(a)"
   ]
  },
  {
   "cell_type": "code",
   "execution_count": 56,
   "id": "9aabc743-3630-425f-a5f4-0fe235254ff6",
   "metadata": {},
   "outputs": [
    {
     "data": {
      "text/plain": [
       "array([[76, 99, 59,  6, 73, 64],\n",
       "       [32, 12, 45, 37, 78, 66],\n",
       "       [22, 70, 58, 74, 75, 96],\n",
       "       [27, 81, 13, 60, 80, 64]])"
      ]
     },
     "execution_count": 56,
     "metadata": {},
     "output_type": "execute_result"
    }
   ],
   "source": [
    "b"
   ]
  },
  {
   "cell_type": "code",
   "execution_count": 58,
   "id": "e557722e-bd6d-4273-b66a-800f2b2b85b4",
   "metadata": {},
   "outputs": [
    {
     "data": {
      "text/plain": [
       "array([[27, 81, 13, 60, 80, 64],\n",
       "       [22, 70, 58, 74, 75, 96],\n",
       "       [32, 12, 45, 37, 78, 66],\n",
       "       [76, 99, 59,  6, 73, 64]])"
      ]
     },
     "execution_count": 58,
     "metadata": {},
     "output_type": "execute_result"
    }
   ],
   "source": [
    "np.flip(b,axis=0)"
   ]
  },
  {
   "cell_type": "code",
   "execution_count": 62,
   "id": "2b32b71e-f16f-4edc-b09b-eccf9db38c1d",
   "metadata": {},
   "outputs": [
    {
     "data": {
      "text/plain": [
       "array([110, 156,  76,  11,  89,  28,  47,  94,  98,  55,  62,  86,  59,\n",
       "        59,  39])"
      ]
     },
     "execution_count": 62,
     "metadata": {},
     "output_type": "execute_result"
    }
   ],
   "source": [
    "#np.put --> changing multiple elements permanently !\n",
    "a"
   ]
  },
  {
   "cell_type": "code",
   "execution_count": 60,
   "id": "0a1d34ea-0a69-46a8-9407-2e6a0ec7d14c",
   "metadata": {},
   "outputs": [],
   "source": [
    "np.put(a,[0,1],[110,156])"
   ]
  },
  {
   "cell_type": "code",
   "execution_count": 61,
   "id": "2abe3d21-ca8a-4c7e-9eb1-70610e989f99",
   "metadata": {},
   "outputs": [
    {
     "name": "stdout",
     "output_type": "stream",
     "text": [
      "[110 156  76  11  89  28  47  94  98  55  62  86  59  59  39]\n"
     ]
    }
   ],
   "source": [
    "print(a)"
   ]
  },
  {
   "cell_type": "code",
   "execution_count": null,
   "id": "e82bf004-b2d7-4230-a524-d4f7fd988fed",
   "metadata": {},
   "outputs": [],
   "source": []
  }
 ],
 "metadata": {
  "kernelspec": {
   "display_name": "Python 3 (ipykernel)",
   "language": "python",
   "name": "python3"
  },
  "language_info": {
   "codemirror_mode": {
    "name": "ipython",
    "version": 3
   },
   "file_extension": ".py",
   "mimetype": "text/x-python",
   "name": "python",
   "nbconvert_exporter": "python",
   "pygments_lexer": "ipython3",
   "version": "3.10.2"
  }
 },
 "nbformat": 4,
 "nbformat_minor": 5
}
