{
 "cells": [
  {
   "cell_type": "code",
   "execution_count": 1,
   "id": "57f51b2d-eed8-49a8-8018-d23dc7ef72d5",
   "metadata": {},
   "outputs": [
    {
     "data": {
      "text/plain": [
       "array([1, 2, 3])"
      ]
     },
     "execution_count": 1,
     "metadata": {},
     "output_type": "execute_result"
    }
   ],
   "source": [
    "import numpy as np \n",
    "np.array([1,2,3])"
   ]
  },
  {
   "cell_type": "code",
   "execution_count": 2,
   "id": "15b18ad4-4d07-441a-9cb4-389ee2f2368c",
   "metadata": {},
   "outputs": [
    {
     "name": "stdout",
     "output_type": "stream",
     "text": [
      "add(x1, x2, /, out=None, *, where=True, casting='same_kind', order='K', dtype=None, subok=True[, signature, extobj])\n",
      "\n",
      "Add arguments element-wise.\n",
      "\n",
      "Parameters\n",
      "----------\n",
      "x1, x2 : array_like\n",
      "    The arrays to be added.\n",
      "    If ``x1.shape != x2.shape``, they must be broadcastable to a common\n",
      "    shape (which becomes the shape of the output).\n",
      "out : ndarray, None, or tuple of ndarray and None, optional\n",
      "    A location into which the result is stored. If provided, it must have\n",
      "    a shape that the inputs broadcast to. If not provided or None,\n",
      "    a freshly-allocated array is returned. A tuple (possible only as a\n",
      "    keyword argument) must have length equal to the number of outputs.\n",
      "where : array_like, optional\n",
      "    This condition is broadcast over the input. At locations where the\n",
      "    condition is True, the `out` array will be set to the ufunc result.\n",
      "    Elsewhere, the `out` array will retain its original value.\n",
      "    Note that if an uninitialized `out` array is created via the default\n",
      "    ``out=None``, locations within it where the condition is False will\n",
      "    remain uninitialized.\n",
      "**kwargs\n",
      "    For other keyword-only arguments, see the\n",
      "    :ref:`ufunc docs <ufuncs.kwargs>`.\n",
      "\n",
      "Returns\n",
      "-------\n",
      "add : ndarray or scalar\n",
      "    The sum of `x1` and `x2`, element-wise.\n",
      "    This is a scalar if both `x1` and `x2` are scalars.\n",
      "\n",
      "Notes\n",
      "-----\n",
      "Equivalent to `x1` + `x2` in terms of array broadcasting.\n",
      "\n",
      "Examples\n",
      "--------\n",
      ">>> np.add(1.0, 4.0)\n",
      "5.0\n",
      ">>> x1 = np.arange(9.0).reshape((3, 3))\n",
      ">>> x2 = np.arange(3.0)\n",
      ">>> np.add(x1, x2)\n",
      "array([[  0.,   2.,   4.],\n",
      "       [  3.,   5.,   7.],\n",
      "       [  6.,   8.,  10.]])\n",
      "\n",
      "The ``+`` operator can be used as a shorthand for ``np.add`` on ndarrays.\n",
      "\n",
      ">>> x1 = np.arange(9.0).reshape((3, 3))\n",
      ">>> x2 = np.arange(3.0)\n",
      ">>> x1 + x2\n",
      "array([[ 0.,  2.,  4.],\n",
      "       [ 3.,  5.,  7.],\n",
      "       [ 6.,  8., 10.]])\n"
     ]
    }
   ],
   "source": [
    "np.info(np.add)"
   ]
  },
  {
   "cell_type": "code",
   "execution_count": 5,
   "id": "6e9f197a-1be8-4706-9f50-7651cc74282c",
   "metadata": {},
   "outputs": [
    {
     "data": {
      "text/plain": [
       "False"
      ]
     },
     "execution_count": 5,
     "metadata": {},
     "output_type": "execute_result"
    }
   ],
   "source": [
    "#testing none are zero \n",
    "x = np.array([1,2,3])\n",
    "np.all(x)\n",
    "y = np.array([0,1,2,3])\n",
    "np.all(y)"
   ]
  },
  {
   "cell_type": "code",
   "execution_count": 11,
   "id": "f38a566d-f0dd-4b64-8bea-a55ddc410bc3",
   "metadata": {},
   "outputs": [
    {
     "data": {
      "text/plain": [
       "False"
      ]
     },
     "execution_count": 11,
     "metadata": {},
     "output_type": "execute_result"
    }
   ],
   "source": [
    "#testing if any non-zero  \n",
    "x = np.array([0,1,2])\n",
    "#np.any(x)\n",
    "y = np.array([0,0,0])\n",
    "np.any(y)"
   ]
  },
  {
   "cell_type": "code",
   "execution_count": 18,
   "id": "71a89f48-7980-4acd-b6e1-bb5fdeed40a8",
   "metadata": {},
   "outputs": [
    {
     "data": {
      "text/plain": [
       "array([ True,  True,  True, False])"
      ]
     },
     "execution_count": 18,
     "metadata": {},
     "output_type": "execute_result"
    }
   ],
   "source": [
    "#checking for valid values \n",
    "x = np.array([1,2,3,np.nan])\n",
    "y = np.array([4,5,6,np.inf])\n",
    "#print(y)\n",
    "np.isfinite(x)\n",
    "#np.isfinite(y)"
   ]
  },
  {
   "cell_type": "code",
   "execution_count": 20,
   "id": "e0177462-0aa8-4f62-80cc-7d6bc669138f",
   "metadata": {},
   "outputs": [
    {
     "data": {
      "text/plain": [
       "array([False, False, False, False,  True, False])"
      ]
     },
     "execution_count": 20,
     "metadata": {},
     "output_type": "execute_result"
    }
   ],
   "source": [
    "#checking for pos/neg infinite Numbers \n",
    "x = np.array([1,2,3,-np.inf, np.inf,10])\n",
    "np.isposinf(x)\n",
    "#np.isneginf(x)"
   ]
  },
  {
   "cell_type": "code",
   "execution_count": 21,
   "id": "280236de-d21e-43d0-81bd-e2a24737e7d2",
   "metadata": {},
   "outputs": [
    {
     "data": {
      "text/plain": [
       "array([False, False, False,  True, False])"
      ]
     },
     "execution_count": 21,
     "metadata": {},
     "output_type": "execute_result"
    }
   ],
   "source": [
    "#checking for nan values \n",
    "x = np.array([1,2,3,np.nan,10])\n",
    "np.isnan(x)"
   ]
  },
  {
   "cell_type": "code",
   "execution_count": 24,
   "id": "ae14eacb-e851-43dd-9e59-b18408bcf5c6",
   "metadata": {},
   "outputs": [
    {
     "name": "stdout",
     "output_type": "stream",
     "text": [
      "[False False  True  True  True]\n",
      "[ True False  True  True  True]\n",
      "[False  True False False False]\n",
      "[ True  True False False False]\n"
     ]
    }
   ],
   "source": [
    "x = np.array([1,2,3,4,5])\n",
    "y =np.array([1,5,2,3,4])\n",
    "print(np.greater(x,y))\n",
    "print(np.greater_equal(x,y))\n",
    "print(np.less(x,y))\n",
    "print(np.less_equal(x,y))"
   ]
  },
  {
   "cell_type": "code",
   "execution_count": 35,
   "id": "dd053144-e2d3-435c-b1a9-25c8a3262b12",
   "metadata": {},
   "outputs": [
    {
     "name": "stdout",
     "output_type": "stream",
     "text": [
      "[ 1  2  0 -1  2]\n"
     ]
    }
   ],
   "source": [
    "x = np.array([1,2,3,4,5])\n",
    "y =np.array([1,5,2,3,4])\n",
    "z = np.array([1,2,4,5,7])\n",
    "x1 = np.array([10,11,0,-1,2])\n",
    "print(np.min((x,y,z,x1),axis=0))"
   ]
  },
  {
   "cell_type": "code",
   "execution_count": 43,
   "id": "fe97e871-15ae-4af3-b7ab-2d7a8488d1f3",
   "metadata": {},
   "outputs": [
    {
     "name": "stdout",
     "output_type": "stream",
     "text": [
      "40\n",
      "10\n",
      "4\n",
      "40 bytes\n"
     ]
    }
   ],
   "source": [
    "x = np.array([1,7,12,105,1,3,5,1,16,16])\n",
    "print(x.nbytes)\n",
    "print(x.size)\n",
    "print(x.itemsize)\n",
    "print(\"%d bytes\" % (x.size * x.itemsize)) "
   ]
  },
  {
   "cell_type": "code",
   "execution_count": 44,
   "id": "60e0dd93-a81b-4ee8-9986-44edcb316646",
   "metadata": {},
   "outputs": [
    {
     "data": {
      "text/plain": [
       "array([0., 0., 0., 0., 0., 0., 0., 0., 0., 0.])"
      ]
     },
     "execution_count": 44,
     "metadata": {},
     "output_type": "execute_result"
    }
   ],
   "source": [
    "#array of 10 zeros \n",
    "np.zeros(10)"
   ]
  },
  {
   "cell_type": "code",
   "execution_count": 45,
   "id": "6e607523-7d0c-4495-87c6-131628ce1dbc",
   "metadata": {},
   "outputs": [
    {
     "data": {
      "text/plain": [
       "array([1., 1., 1., 1., 1., 1., 1., 1., 1., 1.])"
      ]
     },
     "execution_count": 45,
     "metadata": {},
     "output_type": "execute_result"
    }
   ],
   "source": [
    "#array of 10 ones \n",
    "np.ones(10)"
   ]
  },
  {
   "cell_type": "code",
   "execution_count": 47,
   "id": "924bf007-4a71-4c5c-aa9e-f29eb5022f00",
   "metadata": {},
   "outputs": [
    {
     "data": {
      "text/plain": [
       "array([5., 5., 5., 5., 5., 5., 5., 5., 5., 5.])"
      ]
     },
     "execution_count": 47,
     "metadata": {},
     "output_type": "execute_result"
    }
   ],
   "source": [
    "#array of 10 fives \n",
    "np.ones(10) * 5"
   ]
  },
  {
   "cell_type": "code",
   "execution_count": 49,
   "id": "63b8c8fc-c21a-44f4-8a5b-11361570dfb9",
   "metadata": {},
   "outputs": [
    {
     "data": {
      "text/plain": [
       "array([30, 31, 32, 33, 34, 35, 36, 37, 38, 39, 40, 41, 42, 43, 44, 45, 46,\n",
       "       47, 48, 49, 50, 51, 52, 53, 54, 55, 56, 57, 58, 59, 60, 61, 62, 63,\n",
       "       64, 65, 66, 67, 68, 69, 70])"
      ]
     },
     "execution_count": 49,
     "metadata": {},
     "output_type": "execute_result"
    }
   ],
   "source": [
    "#numpy array from 30 to 70 \n",
    "np.arange(30,71)"
   ]
  },
  {
   "cell_type": "code",
   "execution_count": 50,
   "id": "774acfe4-8c14-4354-8045-7db384e520bc",
   "metadata": {},
   "outputs": [
    {
     "data": {
      "text/plain": [
       "array([30, 32, 34, 36, 38, 40, 42, 44, 46, 48, 50, 52, 54, 56, 58, 60, 62,\n",
       "       64, 66, 68, 70])"
      ]
     },
     "execution_count": 50,
     "metadata": {},
     "output_type": "execute_result"
    }
   ],
   "source": [
    "#now just even from 30 to 70 \n",
    "np.arange(30,71,2)"
   ]
  },
  {
   "cell_type": "code",
   "execution_count": 72,
   "id": "ad54c014-dccf-4fb2-8a2f-04e955e775ac",
   "metadata": {},
   "outputs": [
    {
     "name": "stdout",
     "output_type": "stream",
     "text": [
      "9\n"
     ]
    }
   ],
   "source": [
    "#creating a matrix of 3 x 3 dimensions\n",
    "#np.arange(1,10).reshape(3,3)\n",
    "#np.random.randint(1,10,9).reshape(3,3)\n",
    "x = np.array([[[1,2,3],[4,5,6],[7,8,9]]])\n",
    "print(x.size)\n"
   ]
  },
  {
   "cell_type": "code",
   "execution_count": null,
   "id": "71746af4-bd9b-4a13-b186-d6e4480535d5",
   "metadata": {},
   "outputs": [],
   "source": []
  }
 ],
 "metadata": {
  "kernelspec": {
   "display_name": "Python 3 (ipykernel)",
   "language": "python",
   "name": "python3"
  },
  "language_info": {
   "codemirror_mode": {
    "name": "ipython",
    "version": 3
   },
   "file_extension": ".py",
   "mimetype": "text/x-python",
   "name": "python",
   "nbconvert_exporter": "python",
   "pygments_lexer": "ipython3",
   "version": "3.10.2"
  }
 },
 "nbformat": 4,
 "nbformat_minor": 5
}
