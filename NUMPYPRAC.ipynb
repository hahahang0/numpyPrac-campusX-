{
 "cells": [
  {
   "cell_type": "code",
   "execution_count": 1,
   "id": "57f51b2d-eed8-49a8-8018-d23dc7ef72d5",
   "metadata": {},
   "outputs": [
    {
     "data": {
      "text/plain": [
       "array([1, 2, 3])"
      ]
     },
     "execution_count": 1,
     "metadata": {},
     "output_type": "execute_result"
    }
   ],
   "source": [
    "import numpy as np \n",
    "np.array([1,2,3])"
   ]
  },
  {
   "cell_type": "code",
   "execution_count": 2,
   "id": "15b18ad4-4d07-441a-9cb4-389ee2f2368c",
   "metadata": {},
   "outputs": [
    {
     "name": "stdout",
     "output_type": "stream",
     "text": [
      "add(x1, x2, /, out=None, *, where=True, casting='same_kind', order='K', dtype=None, subok=True[, signature, extobj])\n",
      "\n",
      "Add arguments element-wise.\n",
      "\n",
      "Parameters\n",
      "----------\n",
      "x1, x2 : array_like\n",
      "    The arrays to be added.\n",
      "    If ``x1.shape != x2.shape``, they must be broadcastable to a common\n",
      "    shape (which becomes the shape of the output).\n",
      "out : ndarray, None, or tuple of ndarray and None, optional\n",
      "    A location into which the result is stored. If provided, it must have\n",
      "    a shape that the inputs broadcast to. If not provided or None,\n",
      "    a freshly-allocated array is returned. A tuple (possible only as a\n",
      "    keyword argument) must have length equal to the number of outputs.\n",
      "where : array_like, optional\n",
      "    This condition is broadcast over the input. At locations where the\n",
      "    condition is True, the `out` array will be set to the ufunc result.\n",
      "    Elsewhere, the `out` array will retain its original value.\n",
      "    Note that if an uninitialized `out` array is created via the default\n",
      "    ``out=None``, locations within it where the condition is False will\n",
      "    remain uninitialized.\n",
      "**kwargs\n",
      "    For other keyword-only arguments, see the\n",
      "    :ref:`ufunc docs <ufuncs.kwargs>`.\n",
      "\n",
      "Returns\n",
      "-------\n",
      "add : ndarray or scalar\n",
      "    The sum of `x1` and `x2`, element-wise.\n",
      "    This is a scalar if both `x1` and `x2` are scalars.\n",
      "\n",
      "Notes\n",
      "-----\n",
      "Equivalent to `x1` + `x2` in terms of array broadcasting.\n",
      "\n",
      "Examples\n",
      "--------\n",
      ">>> np.add(1.0, 4.0)\n",
      "5.0\n",
      ">>> x1 = np.arange(9.0).reshape((3, 3))\n",
      ">>> x2 = np.arange(3.0)\n",
      ">>> np.add(x1, x2)\n",
      "array([[  0.,   2.,   4.],\n",
      "       [  3.,   5.,   7.],\n",
      "       [  6.,   8.,  10.]])\n",
      "\n",
      "The ``+`` operator can be used as a shorthand for ``np.add`` on ndarrays.\n",
      "\n",
      ">>> x1 = np.arange(9.0).reshape((3, 3))\n",
      ">>> x2 = np.arange(3.0)\n",
      ">>> x1 + x2\n",
      "array([[ 0.,  2.,  4.],\n",
      "       [ 3.,  5.,  7.],\n",
      "       [ 6.,  8., 10.]])\n"
     ]
    }
   ],
   "source": [
    "np.info(np.add)"
   ]
  },
  {
   "cell_type": "code",
   "execution_count": 3,
   "id": "6e9f197a-1be8-4706-9f50-7651cc74282c",
   "metadata": {},
   "outputs": [
    {
     "data": {
      "text/plain": [
       "False"
      ]
     },
     "execution_count": 3,
     "metadata": {},
     "output_type": "execute_result"
    }
   ],
   "source": [
    "#testing none are zero \n",
    "x = np.array([1,2,3])\n",
    "np.all(x)\n",
    "y = np.array([0,1,2,3])\n",
    "np.all(y)"
   ]
  },
  {
   "cell_type": "code",
   "execution_count": 4,
   "id": "f38a566d-f0dd-4b64-8bea-a55ddc410bc3",
   "metadata": {},
   "outputs": [
    {
     "data": {
      "text/plain": [
       "False"
      ]
     },
     "execution_count": 4,
     "metadata": {},
     "output_type": "execute_result"
    }
   ],
   "source": [
    "#testing if any non-zero  \n",
    "x = np.array([0,1,2])\n",
    "#np.any(x)\n",
    "y = np.array([0,0,0])\n",
    "np.any(y)"
   ]
  },
  {
   "cell_type": "code",
   "execution_count": 5,
   "id": "71a89f48-7980-4acd-b6e1-bb5fdeed40a8",
   "metadata": {},
   "outputs": [
    {
     "data": {
      "text/plain": [
       "array([ True,  True,  True, False])"
      ]
     },
     "execution_count": 5,
     "metadata": {},
     "output_type": "execute_result"
    }
   ],
   "source": [
    "#checking for valid values \n",
    "x = np.array([1,2,3,np.nan])\n",
    "y = np.array([4,5,6,np.inf])\n",
    "#print(y)\n",
    "np.isfinite(x)\n",
    "#np.isfinite(y)"
   ]
  },
  {
   "cell_type": "code",
   "execution_count": 6,
   "id": "e0177462-0aa8-4f62-80cc-7d6bc669138f",
   "metadata": {},
   "outputs": [
    {
     "data": {
      "text/plain": [
       "array([False, False, False, False,  True, False])"
      ]
     },
     "execution_count": 6,
     "metadata": {},
     "output_type": "execute_result"
    }
   ],
   "source": [
    "#checking for pos/neg infinite Numbers \n",
    "x = np.array([1,2,3,-np.inf, np.inf,10])\n",
    "np.isposinf(x)\n",
    "#np.isneginf(x)"
   ]
  },
  {
   "cell_type": "code",
   "execution_count": 7,
   "id": "280236de-d21e-43d0-81bd-e2a24737e7d2",
   "metadata": {},
   "outputs": [
    {
     "data": {
      "text/plain": [
       "array([False, False, False,  True, False])"
      ]
     },
     "execution_count": 7,
     "metadata": {},
     "output_type": "execute_result"
    }
   ],
   "source": [
    "#checking for nan values \n",
    "x = np.array([1,2,3,np.nan,10])\n",
    "np.isnan(x)"
   ]
  },
  {
   "cell_type": "code",
   "execution_count": 8,
   "id": "ae14eacb-e851-43dd-9e59-b18408bcf5c6",
   "metadata": {},
   "outputs": [
    {
     "name": "stdout",
     "output_type": "stream",
     "text": [
      "[False False  True  True  True]\n",
      "[ True False  True  True  True]\n",
      "[False  True False False False]\n",
      "[ True  True False False False]\n"
     ]
    }
   ],
   "source": [
    "x = np.array([1,2,3,4,5])\n",
    "y =np.array([1,5,2,3,4])\n",
    "print(np.greater(x,y))\n",
    "print(np.greater_equal(x,y))\n",
    "print(np.less(x,y))\n",
    "print(np.less_equal(x,y))"
   ]
  },
  {
   "cell_type": "code",
   "execution_count": 9,
   "id": "dd053144-e2d3-435c-b1a9-25c8a3262b12",
   "metadata": {},
   "outputs": [
    {
     "name": "stdout",
     "output_type": "stream",
     "text": [
      "[ 1  2  0 -1  2]\n"
     ]
    }
   ],
   "source": [
    "x = np.array([1,2,3,4,5])\n",
    "y =np.array([1,5,2,3,4])\n",
    "z = np.array([1,2,4,5,7])\n",
    "x1 = np.array([10,11,0,-1,2])\n",
    "print(np.min((x,y,z,x1),axis=0))"
   ]
  },
  {
   "cell_type": "code",
   "execution_count": 10,
   "id": "fe97e871-15ae-4af3-b7ab-2d7a8488d1f3",
   "metadata": {},
   "outputs": [
    {
     "name": "stdout",
     "output_type": "stream",
     "text": [
      "40\n",
      "10\n",
      "4\n",
      "40 bytes\n"
     ]
    }
   ],
   "source": [
    "x = np.array([1,7,12,105,1,3,5,1,16,16])\n",
    "print(x.nbytes)\n",
    "print(x.size)\n",
    "print(x.itemsize)\n",
    "print(\"%d bytes\" % (x.size * x.itemsize)) "
   ]
  },
  {
   "cell_type": "code",
   "execution_count": 11,
   "id": "60e0dd93-a81b-4ee8-9986-44edcb316646",
   "metadata": {},
   "outputs": [
    {
     "data": {
      "text/plain": [
       "array([0., 0., 0., 0., 0., 0., 0., 0., 0., 0.])"
      ]
     },
     "execution_count": 11,
     "metadata": {},
     "output_type": "execute_result"
    }
   ],
   "source": [
    "#array of 10 zeros \n",
    "np.zeros(10)"
   ]
  },
  {
   "cell_type": "code",
   "execution_count": 12,
   "id": "6e607523-7d0c-4495-87c6-131628ce1dbc",
   "metadata": {},
   "outputs": [
    {
     "data": {
      "text/plain": [
       "array([1., 1., 1., 1., 1., 1., 1., 1., 1., 1.])"
      ]
     },
     "execution_count": 12,
     "metadata": {},
     "output_type": "execute_result"
    }
   ],
   "source": [
    "#array of 10 ones \n",
    "np.ones(10)"
   ]
  },
  {
   "cell_type": "code",
   "execution_count": 13,
   "id": "924bf007-4a71-4c5c-aa9e-f29eb5022f00",
   "metadata": {},
   "outputs": [
    {
     "data": {
      "text/plain": [
       "array([5., 5., 5., 5., 5., 5., 5., 5., 5., 5.])"
      ]
     },
     "execution_count": 13,
     "metadata": {},
     "output_type": "execute_result"
    }
   ],
   "source": [
    "#array of 10 fives \n",
    "np.ones(10) * 5"
   ]
  },
  {
   "cell_type": "code",
   "execution_count": 14,
   "id": "63b8c8fc-c21a-44f4-8a5b-11361570dfb9",
   "metadata": {},
   "outputs": [
    {
     "data": {
      "text/plain": [
       "array([30, 31, 32, 33, 34, 35, 36, 37, 38, 39, 40, 41, 42, 43, 44, 45, 46,\n",
       "       47, 48, 49, 50, 51, 52, 53, 54, 55, 56, 57, 58, 59, 60, 61, 62, 63,\n",
       "       64, 65, 66, 67, 68, 69, 70])"
      ]
     },
     "execution_count": 14,
     "metadata": {},
     "output_type": "execute_result"
    }
   ],
   "source": [
    "#numpy array from 30 to 70 \n",
    "np.arange(30,71)"
   ]
  },
  {
   "cell_type": "code",
   "execution_count": 15,
   "id": "774acfe4-8c14-4354-8045-7db384e520bc",
   "metadata": {},
   "outputs": [
    {
     "data": {
      "text/plain": [
       "array([30, 32, 34, 36, 38, 40, 42, 44, 46, 48, 50, 52, 54, 56, 58, 60, 62,\n",
       "       64, 66, 68, 70])"
      ]
     },
     "execution_count": 15,
     "metadata": {},
     "output_type": "execute_result"
    }
   ],
   "source": [
    "#now just even from 30 to 70 \n",
    "np.arange(30,71,2)"
   ]
  },
  {
   "cell_type": "code",
   "execution_count": 16,
   "id": "ad54c014-dccf-4fb2-8a2f-04e955e775ac",
   "metadata": {},
   "outputs": [
    {
     "name": "stdout",
     "output_type": "stream",
     "text": [
      "9\n"
     ]
    }
   ],
   "source": [
    "#creating a matrix of 3 x 3 dimensions\n",
    "#np.arange(1,10).reshape(3,3)\n",
    "#np.random.randint(1,10,9).reshape(3,3)\n",
    "x = np.array([[[1,2,3],[4,5,6],[7,8,9]]])\n",
    "print(x.size)\n"
   ]
  },
  {
   "cell_type": "code",
   "execution_count": 17,
   "id": "71746af4-bd9b-4a13-b186-d6e4480535d5",
   "metadata": {},
   "outputs": [
    {
     "name": "stdout",
     "output_type": "stream",
     "text": [
      "[-0.34229842]\n"
     ]
    }
   ],
   "source": [
    "# generate a random number between 0 and 1 \n",
    "rand_num = np.random.normal(0, 1, 1)\n",
    "print(rand_num)"
   ]
  },
  {
   "cell_type": "code",
   "execution_count": 18,
   "id": "ab6beb4d-0c81-4402-bcc3-0e6b8f7a28b9",
   "metadata": {},
   "outputs": [
    {
     "data": {
      "text/plain": [
       "array([-2.63872773,  1.53756875,  0.07981386, -1.94148114,  0.30677002,\n",
       "       -0.80113723, -0.53357218,  0.2805171 ,  0.26477229, -0.18999059,\n",
       "        0.008917  , -0.88951307,  0.75643622, -0.726022  ,  0.58782607])"
      ]
     },
     "execution_count": 18,
     "metadata": {},
     "output_type": "execute_result"
    }
   ],
   "source": [
    "# standard random number 15 of them \n",
    "np.random.normal(0,1,15)"
   ]
  },
  {
   "cell_type": "code",
   "execution_count": 19,
   "id": "201ebc2a-d255-4d57-b818-53b52d221d27",
   "metadata": {},
   "outputs": [
    {
     "name": "stdout",
     "output_type": "stream",
     "text": [
      "[15 16 17 18 19 20 21 22 23 24 25 26 27 28 29 30 31 32 33 34 35 36 37 38\n",
      " 39 40 41 42 43 44 45]\n",
      "[16 17 18 19 20 21 22 23 24 25 26 27 28 29 30 31 32 33 34 35 36 37 38 39\n",
      " 40 41 42 43 44]\n"
     ]
    }
   ],
   "source": [
    "#create a vetctor between numbers 15 and 45 and just print every element except the first and the last element ! \n",
    "t_array = np.arange(15,46)\n",
    "t_array = t_array.T\n",
    "print(t_array)\n",
    "print(t_array[1:-1])"
   ]
  },
  {
   "cell_type": "code",
   "execution_count": 20,
   "id": "a7a853c1-2922-480c-be4c-a8d304c683ab",
   "metadata": {},
   "outputs": [
    {
     "data": {
      "text/plain": [
       "array([[ 1,  2,  3,  4],\n",
       "       [ 5,  6,  7,  8],\n",
       "       [ 9, 10, 11, 12]])"
      ]
     },
     "execution_count": 20,
     "metadata": {},
     "output_type": "execute_result"
    }
   ],
   "source": [
    "#create 3*4 array and iterate through it ! \n",
    "np.arange(1,13).reshape(3,4)"
   ]
  },
  {
   "cell_type": "code",
   "execution_count": 21,
   "id": "0addc3f4-5cc7-4352-bc66-3841863fcc6f",
   "metadata": {},
   "outputs": [
    {
     "data": {
      "text/plain": [
       "array([ 5., 10., 15., 20., 25., 30., 35., 40., 45., 50.])"
      ]
     },
     "execution_count": 21,
     "metadata": {},
     "output_type": "execute_result"
    }
   ],
   "source": [
    "#evenly distributed vector with length 10 between 5 and 50 \n",
    "np.linspace(5,50,10)"
   ]
  },
  {
   "cell_type": "code",
   "execution_count": 22,
   "id": "6f2e8823-6959-4b6e-b65e-5849060789c9",
   "metadata": {},
   "outputs": [
    {
     "data": {
      "text/plain": [
       "array([0, 3, 1, 6, 3])"
      ]
     },
     "execution_count": 22,
     "metadata": {},
     "output_type": "execute_result"
    }
   ],
   "source": [
    "#Write a NumPy program to create a vector of length 5 filled with arbitrary integers from 0 to 10.\n",
    "np.random.randint(0,10,5)"
   ]
  },
  {
   "cell_type": "code",
   "execution_count": 23,
   "id": "d86332cc-0767-4dc5-86f8-452c034d8a1b",
   "metadata": {},
   "outputs": [
    {
     "name": "stdout",
     "output_type": "stream",
     "text": [
      "[4 6 5]\n",
      "[1 1 1]\n",
      "[4 6 5]\n"
     ]
    }
   ],
   "source": [
    "x = np.random.randint(1,10,3)\n",
    "y = np.random.randint(1,10,3)\n",
    "print(x)\n",
    "print(y)\n",
    "print(x * y)"
   ]
  },
  {
   "cell_type": "code",
   "execution_count": 24,
   "id": "ca4bfe3c-89c5-4460-b6e8-c22fe57bb957",
   "metadata": {},
   "outputs": [
    {
     "data": {
      "text/plain": [
       "array([[21, 20, 13, 15],\n",
       "       [19, 20, 10, 18],\n",
       "       [17, 10, 12, 21]])"
      ]
     },
     "execution_count": 24,
     "metadata": {},
     "output_type": "execute_result"
    }
   ],
   "source": [
    "# 3*4 matrix filled with values from 10 to 21 \n",
    "np.random.randint(10,22,12).reshape(3,4)"
   ]
  },
  {
   "cell_type": "code",
   "execution_count": 25,
   "id": "01cb2852-ca29-4aa5-84c8-3a3b7f910950",
   "metadata": {},
   "outputs": [
    {
     "name": "stdout",
     "output_type": "stream",
     "text": [
      "[1 2 3 4 5 6 7 8 9]\n",
      "\n",
      "[[ 1  2  3  4  5]\n",
      " [ 6  7  8  9 10]]\n",
      "\n",
      "[[1 2 3]\n",
      " [4 5 6]\n",
      " [7 8 9]]\n",
      "\n",
      "rows columns for x  (9,)\n",
      "rows columns for y  2 5\n",
      "rows columns for z  3 3\n"
     ]
    }
   ],
   "source": [
    "#write a program to find the number of rows and columns in the matrix \n",
    "x = np.arange(1,10)\n",
    "y = np.arange(1,11).reshape(2,5)\n",
    "z = np.arange(1,10).reshape(3,3)\n",
    "rows = x.shape\n",
    "rows_y,columns_y = y.shape\n",
    "rows_z,columns_z = z.shape\n",
    "\n",
    "print(x)\n",
    "print()\n",
    "print(y)\n",
    "print()\n",
    "print(z)\n",
    "print()\n",
    "print(\"rows columns for x \",rows)\n",
    "print(\"rows columns for y \",rows_y,columns_y)\n",
    "print(\"rows columns for z \",rows_z,columns_z)"
   ]
  },
  {
   "cell_type": "code",
   "execution_count": 26,
   "id": "f531f774-1755-42c9-aab5-4884e720e713",
   "metadata": {},
   "outputs": [
    {
     "data": {
      "text/plain": [
       "array([[1., 0., 0.],\n",
       "       [0., 1., 0.],\n",
       "       [0., 0., 1.]])"
      ]
     },
     "execution_count": 26,
     "metadata": {},
     "output_type": "execute_result"
    }
   ],
   "source": [
    "# 3x3 identity matrix \n",
    "np.identity(3)"
   ]
  },
  {
   "cell_type": "code",
   "execution_count": 45,
   "id": "a4a02812-0071-41d5-8e12-a33743005d0f",
   "metadata": {},
   "outputs": [
    {
     "name": "stdout",
     "output_type": "stream",
     "text": [
      "arra [[1. 1. 1. 1. 1. 1. 1. 1. 1. 1.]\n",
      " [1. 1. 1. 1. 1. 1. 1. 1. 1. 1.]\n",
      " [1. 1. 1. 1. 1. 1. 1. 1. 1. 1.]\n",
      " [1. 1. 1. 1. 1. 1. 1. 1. 1. 1.]\n",
      " [1. 1. 1. 1. 1. 1. 1. 1. 1. 1.]\n",
      " [1. 1. 1. 1. 1. 1. 1. 1. 1. 1.]\n",
      " [1. 1. 1. 1. 1. 1. 1. 1. 1. 1.]\n",
      " [1. 1. 1. 1. 1. 1. 1. 1. 1. 1.]\n",
      " [1. 1. 1. 1. 1. 1. 1. 1. 1. 1.]\n",
      " [1. 1. 1. 1. 1. 1. 1. 1. 1. 1.]]\n",
      "[[1. 1. 1. 1. 1. 1. 1. 1. 1. 1.]\n",
      " [1. 0. 0. 0. 0. 0. 0. 0. 0. 1.]\n",
      " [1. 0. 0. 0. 0. 0. 0. 0. 0. 1.]\n",
      " [1. 0. 0. 0. 0. 0. 0. 0. 0. 1.]\n",
      " [1. 0. 0. 0. 0. 0. 0. 0. 0. 1.]\n",
      " [1. 0. 0. 0. 0. 0. 0. 0. 0. 1.]\n",
      " [1. 0. 0. 0. 0. 0. 0. 0. 0. 1.]\n",
      " [1. 0. 0. 0. 0. 0. 0. 0. 0. 1.]\n",
      " [1. 0. 0. 0. 0. 0. 0. 0. 0. 1.]\n",
      " [1. 1. 1. 1. 1. 1. 1. 1. 1. 1.]]\n"
     ]
    }
   ],
   "source": [
    "#10x10 matrix , where border elements will be 1 and the diagonal will be zero \n",
    "arra = np.ones(100).reshape(10,10)\n",
    "print(\"arra\",arra)\n",
    "arra[1:-1,1:-1] = 0 \n",
    "print(arra)"
   ]
  },
  {
   "cell_type": "code",
   "execution_count": 47,
   "id": "790c3c60-c4ad-4e04-be6e-fbe910fbb53c",
   "metadata": {},
   "outputs": [
    {
     "data": {
      "text/plain": [
       "array([[ 1,  0,  0,  0,  0,  0,  0,  0,  0,  0],\n",
       "       [ 0,  2,  0,  0,  0,  0,  0,  0,  0,  0],\n",
       "       [ 0,  0,  3,  0,  0,  0,  0,  0,  0,  0],\n",
       "       [ 0,  0,  0,  4,  0,  0,  0,  0,  0,  0],\n",
       "       [ 0,  0,  0,  0,  5,  0,  0,  0,  0,  0],\n",
       "       [ 0,  0,  0,  0,  0,  6,  0,  0,  0,  0],\n",
       "       [ 0,  0,  0,  0,  0,  0,  7,  0,  0,  0],\n",
       "       [ 0,  0,  0,  0,  0,  0,  0,  8,  0,  0],\n",
       "       [ 0,  0,  0,  0,  0,  0,  0,  0,  9,  0],\n",
       "       [ 0,  0,  0,  0,  0,  0,  0,  0,  0, 10]])"
      ]
     },
     "execution_count": 47,
     "metadata": {},
     "output_type": "execute_result"
    }
   ],
   "source": [
    "#array with diagonal element 1,2,3,4,5\n",
    "np.diag([1,2,3,4,5,6,7,8,9,10])"
   ]
  },
  {
   "cell_type": "code",
   "execution_count": 59,
   "id": "1fbcc59f-68d1-4351-87f6-740a3ed2bd15",
   "metadata": {},
   "outputs": [
    {
     "name": "stdout",
     "output_type": "stream",
     "text": [
      "[[0. 1. 0. 1.]\n",
      " [1. 0. 1. 0.]\n",
      " [0. 1. 0. 1.]\n",
      " [1. 0. 1. 0.]]\n"
     ]
    }
   ],
   "source": [
    "#4x4 matrix with 0 and 1 staggered, where 0 lies in the main diagonal \n",
    "stacked_array = np.zeros(16).reshape(4,4)\n",
    "stacked_array[::2,1::2] = 1\n",
    "stacked_array[1::2, ::2] = 1\n",
    "print(stacked_array)"
   ]
  },
  {
   "cell_type": "code",
   "execution_count": 67,
   "id": "52d7d59f-443d-4eda-ab36-70b390f2c142",
   "metadata": {},
   "outputs": [
    {
     "data": {
      "text/plain": [
       "array([[[0.02491893, 0.58498031, 0.61406596, 0.27644989],\n",
       "        [0.51943385, 0.67986161, 0.69756153, 0.71032306],\n",
       "        [0.48069381, 0.9694127 , 0.5106684 , 0.93529409]],\n",
       "\n",
       "       [[0.55185141, 0.88152855, 0.82730881, 0.26642321],\n",
       "        [0.60527347, 0.02889191, 0.48370691, 0.10809391],\n",
       "        [0.62217368, 0.87993164, 0.52355725, 0.33746634]],\n",
       "\n",
       "       [[0.75867794, 0.13551193, 0.83046173, 0.86405419],\n",
       "        [0.50860558, 0.05331545, 0.1711254 , 0.04332457],\n",
       "        [0.87835006, 0.78109704, 0.8789006 , 0.13658125]]])"
      ]
     },
     "execution_count": 67,
     "metadata": {},
     "output_type": "execute_result"
    }
   ],
   "source": [
    "#3x3 matrix filled with arbitary values \n",
    "np.random.random((3,3,2)"
   ]
  },
  {
   "cell_type": "code",
   "execution_count": 72,
   "id": "1b096eeb-5fd1-4598-b3e0-da2fa20e4dd1",
   "metadata": {},
   "outputs": [
    {
     "name": "stdout",
     "output_type": "stream",
     "text": [
      "[12 15 18]\n",
      "[ 6 15 24]\n"
     ]
    }
   ],
   "source": [
    "#computing sums including rows and columns ! \n",
    "t_array = np.arange(1,10).reshape(3,3)\n",
    "np.sum(t_array)\n",
    "print(np.sum(t_array,axis=0))\n",
    "print(np.sum(t_array,axis=1))"
   ]
  },
  {
   "cell_type": "code",
   "execution_count": 76,
   "id": "72fc40e6-51c8-490e-a8b8-8f7459acb6c0",
   "metadata": {},
   "outputs": [
    {
     "name": "stdout",
     "output_type": "stream",
     "text": [
      "[[1 2 3]\n",
      " [4 5 6]]\n",
      "[[30 36 42]\n",
      " [66 81 96]]\n"
     ]
    }
   ],
   "source": [
    "#computer the inner products of two vectors \n",
    "x = np.array([[1,2,3],[4,5,6]])\n",
    "print(x)\n",
    "y = np.array([[1,2,3],[4,5,6],[7,8,9]])\n",
    "print(np.dot(x,y))"
   ]
  },
  {
   "cell_type": "code",
   "execution_count": 80,
   "id": "027201dc-bce6-43f7-a0b1-c7a17f1b742e",
   "metadata": {},
   "outputs": [
    {
     "name": "stdout",
     "output_type": "stream",
     "text": [
      "[[ 2  3  3]\n",
      " [ 5  6  6]\n",
      " [ 8  9  9]\n",
      " [11 12 12]]\n",
      "result,result [[ 2  3  3]\n",
      " [ 5  6  6]\n",
      " [ 8  9  9]\n",
      " [11 12 12]]\n",
      "result [[ 2  3  3]\n",
      " [ 5  6  6]\n",
      " [ 8  9  9]\n",
      " [11 12 12]]\n"
     ]
    }
   ],
   "source": [
    "#adding vector to matrix rows \n",
    "m = np.array([[1, 2, 3], [4, 5, 6], [7, 8, 9], [10, 11, 12]])\n",
    "\n",
    "# Creating a NumPy array 'v' representing a vector with 3 elements\n",
    "v = np.array([1, 1, 0])\n",
    "print(m+v)\n",
    "result = np.empty_like(m)\n",
    "print(\"result,result\",result)\n",
    "\n",
    "# Adding the vector 'v' to each row of the matrix 'm' using a for loop\n",
    "for i in range(4):\n",
    "    result[i, :] = m[i, :] + v\n",
    "print(\"result\",result)"
   ]
  },
  {
   "cell_type": "code",
   "execution_count": 85,
   "id": "acd6b373-2883-41e0-aa5a-63ba0ee4df32",
   "metadata": {},
   "outputs": [],
   "source": [
    "#saving into binary file \n",
    "t_array = np.arange(1,10).reshape(3,3)\n",
    "t_array\n",
    "np.save('file_1.npy',t_array)"
   ]
  },
  {
   "cell_type": "code",
   "execution_count": 86,
   "id": "88c97d09-3ec0-42c8-937b-596274c63f00",
   "metadata": {},
   "outputs": [
    {
     "name": "stdout",
     "output_type": "stream",
     "text": [
      "loaded array [[1 2 3]\n",
      " [4 5 6]\n",
      " [7 8 9]]\n"
     ]
    }
   ],
   "source": [
    "#loading from the binary file \n",
    "\n",
    "load_array = np.load('file_1.npy')\n",
    "print(\"loaded array\",load_array)"
   ]
  },
  {
   "cell_type": "code",
   "execution_count": 89,
   "id": "511aaa06-9de1-4cbf-a277-e2b62c21792f",
   "metadata": {},
   "outputs": [
    {
     "name": "stdout",
     "output_type": "stream",
     "text": [
      "[[1 2 3]\n",
      " [4 5 6]\n",
      " [7 8 9]]\n"
     ]
    }
   ],
   "source": [
    "#saving array to the text file \n",
    "t_array = np.arange(1,10).reshape(3,3)\n",
    "print(t_array)\n",
    "np.savetxt('txt_file.txt',t_array)"
   ]
  },
  {
   "cell_type": "code",
   "execution_count": 90,
   "id": "229f4017-9eb1-448f-82d1-5909dceef653",
   "metadata": {},
   "outputs": [
    {
     "name": "stdout",
     "output_type": "stream",
     "text": [
      "retrieved array [[1. 2. 3.]\n",
      " [4. 5. 6.]\n",
      " [7. 8. 9.]]\n"
     ]
    }
   ],
   "source": [
    "#retrieving array from the text file \n",
    "r_array = np.loadtxt('txt_file.txt')\n",
    "print(\"retrieved array\",r_array)"
   ]
  },
  {
   "cell_type": "code",
   "execution_count": 96,
   "id": "76d971dc-f014-4e44-9a18-253025bf6c06",
   "metadata": {},
   "outputs": [
    {
     "name": "stdout",
     "output_type": "stream",
     "text": [
      "b'\\x01\\x00\\x00\\x00\\x02\\x00\\x00\\x00\\x03\\x00\\x00\\x00\\x04\\x00\\x00\\x00\\x05\\x00\\x00\\x00\\x06\\x00\\x00\\x00\\x07\\x00\\x00\\x00\\x08\\x00\\x00\\x00\\t\\x00\\x00\\x00'\n",
      "another array [[1 2 3]\n",
      " [4 5 6]\n",
      " [7 8 9]]\n"
     ]
    }
   ],
   "source": [
    "#array to bytes and back \n",
    "t_array = np.arange(1,10).reshape(3,3)\n",
    "array_bytes  = t_array.tobytes()\n",
    "print(array_bytes)\n",
    "another_array = np.frombuffer(array_bytes,dtype=t_array.dtype)\n",
    "print(\"another array\",another_array.reshape(3,3))"
   ]
  },
  {
   "cell_type": "code",
   "execution_count": 103,
   "id": "2d318cfa-bd31-4e8c-96d1-7a44eddbe516",
   "metadata": {},
   "outputs": [
    {
     "name": "stdout",
     "output_type": "stream",
     "text": [
      "list1 [1, 2, 3, 4, 5]\n",
      "numpy array [1 2 3 4 5]\n",
      "<class 'list'>\n",
      "<class 'numpy.ndarray'>\n",
      "<class 'list'>\n",
      "equal\n"
     ]
    }
   ],
   "source": [
    "#list to array and array to list,  and compare whether the initial list and the final list is equal or not \n",
    "list_1 = [1,2,3,4,5]\n",
    "np_array = np.array(list_1)\n",
    "print(\"list1\",list_1)\n",
    "print(\"numpy array\",np_array)\n",
    "print(type(list_1))\n",
    "print(type(np_array))\n",
    "arr_to_list = np_array.tolist()\n",
    "print(type(arr_to_list))\n",
    "if list_1 == arr_to_list:\n",
    "    print(\"equal\")\n",
    "else:\n",
    "    print(\"not equal\")"
   ]
  },
  {
   "cell_type": "code",
   "execution_count": 108,
   "id": "08bb518c-e4f2-4bde-8ec3-b98f45463292",
   "metadata": {},
   "outputs": [
    {
     "name": "stdout",
     "output_type": "stream",
     "text": [
      "3.141592653589793\n",
      "x_value [0.  0.2 0.4 0.6 0.8 1.  1.2 1.4 1.6 1.8 2.  2.2 2.4 2.6 2.8 3.  3.2 3.4\n",
      " 3.6 3.8 4.  4.2 4.4 4.6 4.8 5.  5.2 5.4 5.6 5.8 6.  6.2 6.4 6.6 6.8 7.\n",
      " 7.2 7.4 7.6 7.8 8.  8.2 8.4 8.6 8.8 9.  9.2 9.4]\n",
      "y_value [ 0.          0.19866933  0.38941834  0.56464247  0.71735609  0.84147098\n",
      "  0.93203909  0.98544973  0.9995736   0.97384763  0.90929743  0.8084964\n",
      "  0.67546318  0.51550137  0.33498815  0.14112001 -0.05837414 -0.2555411\n",
      " -0.44252044 -0.61185789 -0.7568025  -0.87157577 -0.95160207 -0.993691\n",
      " -0.99616461 -0.95892427 -0.88345466 -0.77276449 -0.63126664 -0.46460218\n",
      " -0.2794155  -0.0830894   0.1165492   0.31154136  0.49411335  0.6569866\n",
      "  0.79366786  0.8987081   0.96791967  0.99854335  0.98935825  0.94073056\n",
      "  0.85459891  0.7343971   0.58491719  0.41211849  0.22288991  0.02477543]\n"
     ]
    },
    {
     "data": {
      "image/png": "[encoded data removed]",
      "text/plain": [
       "<Figure size 640x480 with 1 Axes>"
      ]
     },
     "metadata": {},
     "output_type": "display_data"
    }
   ],
   "source": [
    "#sine coordinates plotting with matplotlib \n",
    "import matplotlib.pyplot as plt \n",
    "\n",
    "print(np.pi)\n",
    "x = np.arange(0, 3 * np.pi, 0.2)\n",
    "y = np.sin(x)\n",
    "print(\"x_value\",x)\n",
    "print(\"y_value\",y)\n",
    "plt.plot(x,y)\n",
    "plt.show()"
   ]
  },
  {
   "cell_type": "code",
   "execution_count": 116,
   "id": "c27f1e01-772b-45d4-a2f8-66b396feeec4",
   "metadata": {},
   "outputs": [
    {
     "name": "stdout",
     "output_type": "stream",
     "text": [
      "Original matrix:\n",
      "[[1, 1, 0, 2], [0, 3, 0, 3], [1, 0, 4, 4]]\n",
      "Sum:\n",
      "length of an array 2\n",
      "length of an array 2\n",
      "length of an array 2\n",
      "length of an array 2\n",
      "length of an array 2\n",
      "length of an array 2\n",
      "length of an array 2\n",
      "length of an array 2\n",
      "length of an array 2\n",
      "length of an array 2\n",
      "length of an array 2\n",
      "length of an array 2\n",
      "14\n"
     ]
    }
   ],
   "source": [
    "#Write a NumPy program to add elements to a matrix. If an element in the matrix is 0, we will not add the element below this element\n",
    "def sum_matrix_Elements(m):\n",
    "    # Converting the input matrix 'm' into a NumPy array 'arra'\n",
    "    arra = np.array(m)\n",
    "    \n",
    "    # Initializing a variable 'element_sum' to store the sum of matrix elements\n",
    "    element_sum = 0  \n",
    "    \n",
    "    # Looping through rows of the array\n",
    "    for p in range(len(arra)):\n",
    "        \n",
    "        # Looping through columns of the array\n",
    "        for q in range(len(arra[p])):\n",
    "            print('length of an array',len(arra)-1)\n",
    "            # Checking if the element is 0 and the row index is less than the last row\n",
    "            if arra[p][q] == 0 and p < len(arra)-1:\n",
    "                # Assigning 0 to the element in the next row at the same column index\n",
    "                arra[p+1][q] = 0  \n",
    "            \n",
    "            # Adding the current element to the total sum\n",
    "            element_sum += arra[p][q]  \n",
    "    \n",
    "    # Returning the sum of matrix elements\n",
    "    return element_sum\n",
    "\n",
    "# Initializing a matrix 'm' using a list of lists\n",
    "m = [[1, 1, 0, 2],\n",
    "     [0, 3, 0, 3],\n",
    "     [1, 0, 4, 4]]\n",
    "\n",
    "# Printing the original matrix 'm'\n",
    "print(\"Original matrix:\")\n",
    "print(m)\n",
    "\n",
    "# Printing the sum of matrix elements using the 'sum_matrix_Elements' function\n",
    "print(\"Sum:\")\n",
    "print(sum_matrix_Elements(m)) "
   ]
  },
  {
   "cell_type": "code",
   "execution_count": 119,
   "id": "8dc20d23-cae5-4f85-9261-5e83d9ffd76b",
   "metadata": {},
   "outputs": [
    {
     "name": "stdout",
     "output_type": "stream",
     "text": [
      "[[ 1.  2.  3.]\n",
      " [ 4. nan nan]\n",
      " [ 5. nan  6.]]\n",
      "[[False False False]\n",
      " [False  True  True]\n",
      " [False  True False]]\n"
     ]
    }
   ],
   "source": [
    "np_array = np.array([[1,2,3],[4,np.nan,np.nan],[5,np.nan,6]])\n",
    "print(np_array)\n",
    "print(np.isnan(np_array))"
   ]
  },
  {
   "cell_type": "code",
   "execution_count": 122,
   "id": "944e7f6c-ce56-4f84-ab08-6d97c6f6f36f",
   "metadata": {},
   "outputs": [
    {
     "name": "stdout",
     "output_type": "stream",
     "text": [
      "[False False  True]\n",
      "[[ True False False]\n",
      " [ True False False]]\n"
     ]
    }
   ],
   "source": [
    "#comparing two arrays \n",
    "x = np.array([1,2,3])\n",
    "y = np.array([4,5,3])\n",
    "print(np.equal(x,y))\n",
    "x1 = np.array([[1,2,3],[4,5,6]])\n",
    "y1 = np.array([[1,4,5],[4,1,2]])\n",
    "print(np.equal(x1,y1))"
   ]
  },
  {
   "cell_type": "code",
   "execution_count": 128,
   "id": "77fa7255-2963-431d-adb7-e071d2577c80",
   "metadata": {},
   "outputs": [
    {
     "name": "stdout",
     "output_type": "stream",
     "text": [
      "[0.2750095  0.06882508 0.88530506 0.08249137 0.04911991 0.5532072\n",
      " 0.65064635 0.13618322 0.86955536 0.16699409]\n"
     ]
    }
   ],
   "source": [
    "#Write a NumPy program to create a one-dimensional array of forty pseudo-randomly generated values. Select random numbers from a uniform distribution between 0 and 1.\n",
    "t_array = np.random.random(10)\n",
    "print(t_array)"
   ]
  },
  {
   "cell_type": "code",
   "execution_count": 131,
   "id": "0525f566-2b35-4561-a6fa-bc2f45dd23de",
   "metadata": {},
   "outputs": [
    {
     "name": "stdout",
     "output_type": "stream",
     "text": [
      "array [[116 172 115 102 115]\n",
      " [ 67 182 171 134  84]\n",
      " [ 45  13  40  36 175]\n",
      " [177 147  99  77 124]\n",
      " [143  81 189 177  44]\n",
      " [ 24 158  57 169 156]\n",
      " [ 60  53 153 145 194]\n",
      " [125  32  75  67 175]]\n"
     ]
    }
   ],
   "source": [
    "#Write a NumPy program to create a two-dimensional array with shape (8,5) of random numbers. Select random numbers from a normal distribution (200,7).\n",
    "t_array = np.random.randint(7,200,40).reshape(8,5)\n",
    "print(\"array\",t_array)"
   ]
  },
  {
   "cell_type": "code",
   "execution_count": 136,
   "id": "99c96148-29b8-494b-83bd-1be0ec3f2ed2",
   "metadata": {},
   "outputs": [
    {
     "name": "stdout",
     "output_type": "stream",
     "text": [
      "[2 1 0]\n"
     ]
    }
   ],
   "source": [
    "random_array = np.random.choice(7,3,replace=False)\n",
    "print(random_array)"
   ]
  },
  {
   "cell_type": "code",
   "execution_count": 160,
   "id": "2c5dff38-4fa5-4240-9660-b544abae8774",
   "metadata": {},
   "outputs": [
    {
     "name": "stdout",
     "output_type": "stream",
     "text": [
      "[[13 14 15 16]\n",
      " [ 5  6  7  8]\n",
      " [ 9 10 11 12]\n",
      " [ 1  2  3  4]]\n"
     ]
    }
   ],
   "source": [
    "#Write a NumPy program to create a 4x4 array with random values. Create an array from the said array swapping first and last rows. \n",
    "t_array = np.arange(1,17).reshape(4,4)\n",
    "\n",
    "\n",
    "t_array[[0,-1],:] = t_array[[-1,0],:]\n",
    "print(t_array)\n"
   ]
  },
  {
   "cell_type": "code",
   "execution_count": 165,
   "id": "df9c5cd8-3b94-43aa-9eb5-81981a3cfe32",
   "metadata": {},
   "outputs": [
    {
     "name": "stdout",
     "output_type": "stream",
     "text": [
      "[[3. 0. 3. 0. 3. 0.]\n",
      " [7. 0. 7. 0. 7. 0.]\n",
      " [3. 0. 3. 0. 3. 0.]\n",
      " [7. 0. 7. 0. 7. 0.]\n",
      " [3. 0. 3. 0. 3. 0.]]\n"
     ]
    }
   ],
   "source": [
    "#Write a NumPy program to create a new array of given shape (5,6) and type, filled with zeros. \n",
    "t_array = np.zeros(30).reshape(5,6)\n",
    "t_array[::2,::2] = 3\n",
    "t_array[1::2,::2] = 7\n",
    "print(t_array)"
   ]
  },
  {
   "cell_type": "code",
   "execution_count": 173,
   "id": "21cd6b42-5d2b-4785-8f8f-0b4cb698cfd5",
   "metadata": {},
   "outputs": [
    {
     "name": "stdout",
     "output_type": "stream",
     "text": [
      "[[1 2 4]\n",
      " [3 3 8]\n",
      " [2 2 5]]\n",
      "[[1 2 2]\n",
      " [3 4 2]\n",
      " [5 8 3]]\n"
     ]
    }
   ],
   "source": [
    "#sort array by row and column in ascending order \n",
    "t_array = np.random.randint(1,10,9).reshape(3,3)\n",
    "\n",
    "print(np.sort(t_array))\n",
    "print(np.sort(t_array,axis=0))"
   ]
  },
  {
   "cell_type": "code",
   "execution_count": 180,
   "id": "9dcba400-6b21-4a0b-9b58-fccf4e4fd91b",
   "metadata": {},
   "outputs": [
    {
     "name": "stdout",
     "output_type": "stream",
     "text": [
      "[[99 20 21 79]\n",
      " [63 21 38 63]\n",
      " [29 15 78 47]]\n"
     ]
    },
    {
     "data": {
      "text/plain": [
       "array([99, 20, 21, 79, 63, 21, 38, 63, 29, 15, 78, 47])"
      ]
     },
     "execution_count": 180,
     "metadata": {},
     "output_type": "execute_result"
    }
   ],
   "source": [
    "#extract elements greater than specified numbers \n",
    "t_array  = np.random.randint(1,100,12).reshape(3,4)\n",
    "print(t_array)\n",
    "t_array[t_array > 10]"
   ]
  },
  {
   "cell_type": "code",
   "execution_count": 192,
   "id": "aca9f101-ce51-409d-96fb-02b35ece9301",
   "metadata": {},
   "outputs": [
    {
     "name": "stdout",
     "output_type": "stream",
     "text": [
      "[   1    2    3 1000    5    6    7    8    9   10]\n",
      "[1000 1000 1000    4    5    6    7    8    9   10]\n",
      "[   1    2    3    4 1000 1000 1000 1000 1000 1000]\n"
     ]
    }
   ],
   "source": [
    "t_array = np.array([1,2,3,4,5,6,7,8,9,10])\n",
    "\n",
    "n = 4\n",
    "r = 1000\n",
    "print(np.where(t_array == n ,r, t_array))\n",
    "print(np.where(t_array<n,r,t_array))\n",
    "print(np.where(t_array>n,r,t_array))\n",
    "\n"
   ]
  },
  {
   "cell_type": "code",
   "execution_count": 194,
   "id": "369c814b-f518-49fa-b457-c1f0fed02c94",
   "metadata": {},
   "outputs": [
    {
     "name": "stdout",
     "output_type": "stream",
     "text": [
      "[[[ 0  1  2  3]\n",
      "  [ 4  5  6  7]\n",
      "  [ 8  9 10 11]\n",
      "  [12 13 14 15]\n",
      "  [16 17 18 19]]\n",
      "\n",
      " [[20 21 22 23]\n",
      "  [24 25 26 27]\n",
      "  [28 29 30 31]\n",
      "  [32 33 34 35]\n",
      "  [36 37 38 39]]\n",
      "\n",
      " [[40 41 42 43]\n",
      "  [44 45 46 47]\n",
      "  [48 49 50 51]\n",
      "  [52 53 54 55]\n",
      "  [56 57 58 59]]]\n"
     ]
    }
   ],
   "source": [
    " #Create 3D Array of Shape (3,5,4)\n",
    "t_array = np.arange(60).reshape(3,5,4)\n",
    "print(t_array)"
   ]
  },
  {
   "cell_type": "code",
   "execution_count": 212,
   "id": "8121f26f-17b8-447e-9743-71df41546de6",
   "metadata": {},
   "outputs": [
    {
     "name": "stdout",
     "output_type": "stream",
     "text": [
      "[[ 1  2  3  4]\n",
      " [ 5  6  7  8]\n",
      " [ 9 10 11 12]\n",
      " [13 14 15 16]]\n",
      "after first and last column exchange\n",
      "\n",
      "[[ 4  2  3  1]\n",
      " [ 8  6  7  5]\n",
      " [12 10 11  9]\n",
      " [16 14 15 13]]\n",
      "after exchanging 2nd and 3rd column\n",
      "\n",
      "[[ 4  3  2  1]\n",
      " [ 8  7  6  5]\n",
      " [12 11 10  9]\n",
      " [16 15 14 13]]\n"
     ]
    }
   ],
   "source": [
    "#swaping 1 and last and 2nd and 3rd columns of 4x4 array \n",
    "t_array = np.arange(1,17).reshape(4,4)\n",
    "print(t_array)\n",
    "t_array[:,[0,-1]] = t_array[:,[-1,0]]\n",
    "print(\"after first and last column exchange\")\n",
    "print()\n",
    "print(t_array)\n",
    "t_array[:,[1,2]] = t_array[:,[2,1]]\n",
    "print(\"after exchanging 2nd and 3rd column\")\n",
    "print()\n",
    "print(t_array)\n"
   ]
  },
  {
   "cell_type": "code",
   "execution_count": 215,
   "id": "c6743806-b95b-4fb5-be73-db07a8b3d1cf",
   "metadata": {},
   "outputs": [
    {
     "ename": "TypeError",
     "evalue": "'reverse' is an invalid keyword argument for print()",
     "output_type": "error",
     "traceback": [
      "\u001b[1;31m---------------------------------------------------------------------------\u001b[0m",
      "\u001b[1;31mTypeError\u001b[0m                                 Traceback (most recent call last)",
      "Cell \u001b[1;32mIn[215], line 3\u001b[0m\n\u001b[0;32m      1\u001b[0m \u001b[38;5;66;03m#reverse rows and columns in an array \u001b[39;00m\n\u001b[0;32m      2\u001b[0m x \u001b[38;5;241m=\u001b[39m np\u001b[38;5;241m.\u001b[39marange(\u001b[38;5;241m1\u001b[39m,\u001b[38;5;241m10\u001b[39m)\u001b[38;5;241m.\u001b[39mreshape(\u001b[38;5;241m3\u001b[39m,\u001b[38;5;241m3\u001b[39m)\n\u001b[1;32m----> 3\u001b[0m \u001b[38;5;28;43mprint\u001b[39;49m\u001b[43m(\u001b[49m\u001b[43mx\u001b[49m\u001b[38;5;241;43m.\u001b[39;49m\u001b[43mT\u001b[49m\u001b[43m,\u001b[49m\u001b[43mreverse\u001b[49m\u001b[38;5;241;43m=\u001b[39;49m\u001b[38;5;28;43;01mTrue\u001b[39;49;00m\u001b[43m)\u001b[49m\n",
      "\u001b[1;31mTypeError\u001b[0m: 'reverse' is an invalid keyword argument for print()"
     ]
    }
   ],
   "source": [
    "#reverse rows and columns in an array \n",
    "x = np.arange(1,10).reshape(3,3)\n",
    "print(x.T)"
   ]
  },
  {
   "cell_type": "code",
   "execution_count": 216,
   "id": "8c05789d-2722-4fe7-8027-e1b5ab7dee28",
   "metadata": {},
   "outputs": [
    {
     "name": "stdout",
     "output_type": "stream",
     "text": [
      "[[ 1  4  9]\n",
      " [16 25 36]\n",
      " [49 64 81]]\n"
     ]
    }
   ],
   "source": [
    "#element wise multiply two arrays , \n",
    "x = np.arange(1,10).reshape(3,3)\n",
    "y = np.arange(1,10).reshape(3,3)\n",
    "print(np.multiply(x,y))"
   ]
  },
  {
   "cell_type": "code",
   "execution_count": null,
   "id": "76caef0f-1f9e-4bb4-804d-8bd90990a093",
   "metadata": {},
   "outputs": [],
   "source": []
  }
 ],
 "metadata": {
  "kernelspec": {
   "display_name": "Python 3 (ipykernel)",
   "language": "python",
   "name": "python3"
  },
  "language_info": {
   "codemirror_mode": {
    "name": "ipython",
    "version": 3
   },
   "file_extension": ".py",
   "mimetype": "text/x-python",
   "name": "python",
   "nbconvert_exporter": "python",
   "pygments_lexer": "ipython3",
   "version": "3.10.2"
  }
 },
 "nbformat": 4,
 "nbformat_minor": 5
}
